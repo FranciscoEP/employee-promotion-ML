{
 "cells": [
  {
   "cell_type": "code",
   "execution_count": 1,
   "id": "2488fec7",
   "metadata": {
    "colab": {
     "base_uri": "https://localhost:8080/"
    },
    "executionInfo": {
     "elapsed": 1063,
     "status": "ok",
     "timestamp": 1653489980173,
     "user": {
      "displayName": "Francisco Ponce",
      "userId": "03873220340391419698"
     },
     "user_tz": 300
    },
    "id": "2488fec7",
    "outputId": "260b69fd-61d6-4f15-baf5-15bb9c3980c1"
   },
   "outputs": [],
   "source": [
    "import pandas as pd\n",
    "import numpy as np\n",
    "\n",
    "import seaborn as sns\n",
    "import matplotlib.pyplot as plt\n",
    "\n",
    "from statsmodels.stats import diagnostic\n",
    "\n",
    "from sklearn.model_selection import train_test_split\n",
    "from sklearn.metrics import classification_report, recall_score, precision_score, confusion_matrix, plot_confusion_matrix\n",
    "from sklearn.linear_model import LogisticRegression\n",
    "from sklearn.tree import DecisionTreeClassifier\n",
    "from sklearn.preprocessing import StandardScaler, MinMaxScaler\n",
    "from sklearn.ensemble import RandomForestClassifier\n",
    "from sklearn.model_selection import GridSearchCV, RepeatedKFold\n",
    "from datetime import datetime\n",
    "\n",
    "from imblearn.over_sampling import SMOTE\n",
    "from imblearn.under_sampling import RandomUnderSampler\n",
    "\n",
    "from scipy.stats import f_oneway\n",
    "\n",
    "import warnings\n",
    "warnings.simplefilter('ignore')"
   ]
  },
  {
   "cell_type": "code",
   "execution_count": 2,
   "id": "b26899cd",
   "metadata": {
    "executionInfo": {
     "elapsed": 206,
     "status": "ok",
     "timestamp": 1653489981511,
     "user": {
      "displayName": "Francisco Ponce",
      "userId": "03873220340391419698"
     },
     "user_tz": 300
    },
    "id": "b26899cd"
   },
   "outputs": [],
   "source": [
    "promotion = pd.read_csv('./promotion.csv')"
   ]
  },
  {
   "cell_type": "code",
   "execution_count": 3,
   "id": "debb5749",
   "metadata": {
    "colab": {
     "base_uri": "https://localhost:8080/",
     "height": 339
    },
    "executionInfo": {
     "elapsed": 5,
     "status": "ok",
     "timestamp": 1653489981512,
     "user": {
      "displayName": "Francisco Ponce",
      "userId": "03873220340391419698"
     },
     "user_tz": 300
    },
    "id": "debb5749",
    "outputId": "253c16d6-5b17-4ad2-c4d9-6ee39424c2c6"
   },
   "outputs": [
    {
     "data": {
      "text/html": [
       "<div>\n",
       "<style scoped>\n",
       "    .dataframe tbody tr th:only-of-type {\n",
       "        vertical-align: middle;\n",
       "    }\n",
       "\n",
       "    .dataframe tbody tr th {\n",
       "        vertical-align: top;\n",
       "    }\n",
       "\n",
       "    .dataframe thead th {\n",
       "        text-align: right;\n",
       "    }\n",
       "</style>\n",
       "<table border=\"1\" class=\"dataframe\">\n",
       "  <thead>\n",
       "    <tr style=\"text-align: right;\">\n",
       "      <th></th>\n",
       "      <th>employee_id</th>\n",
       "      <th>department</th>\n",
       "      <th>region</th>\n",
       "      <th>education</th>\n",
       "      <th>gender</th>\n",
       "      <th>recruitment_channel</th>\n",
       "      <th>no_of_trainings</th>\n",
       "      <th>age</th>\n",
       "      <th>previous_year_rating</th>\n",
       "      <th>length_of_service</th>\n",
       "      <th>KPIs_met &gt;80%</th>\n",
       "      <th>awards_won?</th>\n",
       "      <th>avg_training_score</th>\n",
       "      <th>is_promoted</th>\n",
       "    </tr>\n",
       "  </thead>\n",
       "  <tbody>\n",
       "    <tr>\n",
       "      <th>0</th>\n",
       "      <td>65438</td>\n",
       "      <td>Sales &amp; Marketing</td>\n",
       "      <td>region_7</td>\n",
       "      <td>Master's &amp; above</td>\n",
       "      <td>f</td>\n",
       "      <td>sourcing</td>\n",
       "      <td>1</td>\n",
       "      <td>35</td>\n",
       "      <td>5.0</td>\n",
       "      <td>8</td>\n",
       "      <td>1</td>\n",
       "      <td>0</td>\n",
       "      <td>49</td>\n",
       "      <td>0</td>\n",
       "    </tr>\n",
       "    <tr>\n",
       "      <th>1</th>\n",
       "      <td>65141</td>\n",
       "      <td>Operations</td>\n",
       "      <td>region_22</td>\n",
       "      <td>Bachelor's</td>\n",
       "      <td>m</td>\n",
       "      <td>other</td>\n",
       "      <td>1</td>\n",
       "      <td>30</td>\n",
       "      <td>5.0</td>\n",
       "      <td>4</td>\n",
       "      <td>0</td>\n",
       "      <td>0</td>\n",
       "      <td>60</td>\n",
       "      <td>0</td>\n",
       "    </tr>\n",
       "    <tr>\n",
       "      <th>2</th>\n",
       "      <td>7513</td>\n",
       "      <td>Sales &amp; Marketing</td>\n",
       "      <td>region_19</td>\n",
       "      <td>Bachelor's</td>\n",
       "      <td>m</td>\n",
       "      <td>sourcing</td>\n",
       "      <td>1</td>\n",
       "      <td>34</td>\n",
       "      <td>3.0</td>\n",
       "      <td>7</td>\n",
       "      <td>0</td>\n",
       "      <td>0</td>\n",
       "      <td>50</td>\n",
       "      <td>0</td>\n",
       "    </tr>\n",
       "    <tr>\n",
       "      <th>3</th>\n",
       "      <td>2542</td>\n",
       "      <td>Sales &amp; Marketing</td>\n",
       "      <td>region_23</td>\n",
       "      <td>Bachelor's</td>\n",
       "      <td>m</td>\n",
       "      <td>other</td>\n",
       "      <td>2</td>\n",
       "      <td>39</td>\n",
       "      <td>1.0</td>\n",
       "      <td>10</td>\n",
       "      <td>0</td>\n",
       "      <td>0</td>\n",
       "      <td>50</td>\n",
       "      <td>0</td>\n",
       "    </tr>\n",
       "    <tr>\n",
       "      <th>4</th>\n",
       "      <td>48945</td>\n",
       "      <td>Technology</td>\n",
       "      <td>region_26</td>\n",
       "      <td>Bachelor's</td>\n",
       "      <td>m</td>\n",
       "      <td>other</td>\n",
       "      <td>1</td>\n",
       "      <td>45</td>\n",
       "      <td>3.0</td>\n",
       "      <td>2</td>\n",
       "      <td>0</td>\n",
       "      <td>0</td>\n",
       "      <td>73</td>\n",
       "      <td>0</td>\n",
       "    </tr>\n",
       "  </tbody>\n",
       "</table>\n",
       "</div>"
      ],
      "text/plain": [
       "   employee_id         department     region         education gender  \\\n",
       "0        65438  Sales & Marketing   region_7  Master's & above      f   \n",
       "1        65141         Operations  region_22        Bachelor's      m   \n",
       "2         7513  Sales & Marketing  region_19        Bachelor's      m   \n",
       "3         2542  Sales & Marketing  region_23        Bachelor's      m   \n",
       "4        48945         Technology  region_26        Bachelor's      m   \n",
       "\n",
       "  recruitment_channel  no_of_trainings  age  previous_year_rating  \\\n",
       "0            sourcing                1   35                   5.0   \n",
       "1               other                1   30                   5.0   \n",
       "2            sourcing                1   34                   3.0   \n",
       "3               other                2   39                   1.0   \n",
       "4               other                1   45                   3.0   \n",
       "\n",
       "   length_of_service  KPIs_met >80%  awards_won?  avg_training_score  \\\n",
       "0                  8              1            0                  49   \n",
       "1                  4              0            0                  60   \n",
       "2                  7              0            0                  50   \n",
       "3                 10              0            0                  50   \n",
       "4                  2              0            0                  73   \n",
       "\n",
       "   is_promoted  \n",
       "0            0  \n",
       "1            0  \n",
       "2            0  \n",
       "3            0  \n",
       "4            0  "
      ]
     },
     "execution_count": 3,
     "metadata": {},
     "output_type": "execute_result"
    }
   ],
   "source": [
    "promotion.head()"
   ]
  },
  {
   "cell_type": "code",
   "execution_count": 4,
   "id": "31ae2a91",
   "metadata": {
    "colab": {
     "base_uri": "https://localhost:8080/"
    },
    "executionInfo": {
     "elapsed": 206,
     "status": "ok",
     "timestamp": 1653489981714,
     "user": {
      "displayName": "Francisco Ponce",
      "userId": "03873220340391419698"
     },
     "user_tz": 300
    },
    "id": "31ae2a91",
    "outputId": "b6764256-d029-4f46-8747-b649aef0ab07"
   },
   "outputs": [
    {
     "name": "stdout",
     "output_type": "stream",
     "text": [
      "<class 'pandas.core.frame.DataFrame'>\n",
      "RangeIndex: 54808 entries, 0 to 54807\n",
      "Data columns (total 14 columns):\n",
      " #   Column                Non-Null Count  Dtype  \n",
      "---  ------                --------------  -----  \n",
      " 0   employee_id           54808 non-null  int64  \n",
      " 1   department            54808 non-null  object \n",
      " 2   region                54808 non-null  object \n",
      " 3   education             52399 non-null  object \n",
      " 4   gender                54808 non-null  object \n",
      " 5   recruitment_channel   54808 non-null  object \n",
      " 6   no_of_trainings       54808 non-null  int64  \n",
      " 7   age                   54808 non-null  int64  \n",
      " 8   previous_year_rating  50684 non-null  float64\n",
      " 9   length_of_service     54808 non-null  int64  \n",
      " 10  KPIs_met >80%         54808 non-null  int64  \n",
      " 11  awards_won?           54808 non-null  int64  \n",
      " 12  avg_training_score    54808 non-null  int64  \n",
      " 13  is_promoted           54808 non-null  int64  \n",
      "dtypes: float64(1), int64(8), object(5)\n",
      "memory usage: 5.9+ MB\n"
     ]
    }
   ],
   "source": [
    "promotion.info()"
   ]
  },
  {
   "cell_type": "code",
   "execution_count": 5,
   "id": "897a2f20",
   "metadata": {
    "executionInfo": {
     "elapsed": 5,
     "status": "ok",
     "timestamp": 1653489981715,
     "user": {
      "displayName": "Francisco Ponce",
      "userId": "03873220340391419698"
     },
     "user_tz": 300
    },
    "id": "897a2f20"
   },
   "outputs": [],
   "source": [
    "# It's not going to influenced in any decision and might cause some model biased learning\n",
    "promotion_cleaned = promotion.drop('employee_id', axis=1)"
   ]
  },
  {
   "cell_type": "code",
   "execution_count": 6,
   "id": "4c660a1e",
   "metadata": {
    "executionInfo": {
     "elapsed": 5,
     "status": "ok",
     "timestamp": 1653489981715,
     "user": {
      "displayName": "Francisco Ponce",
      "userId": "03873220340391419698"
     },
     "user_tz": 300
    },
    "id": "4c660a1e"
   },
   "outputs": [],
   "source": [
    "promotion_cleaned = promotion_cleaned.rename(columns = {'KPIs_met >80%':'kpis_met_80', 'awards_won?':'awards_won'})"
   ]
  },
  {
   "cell_type": "code",
   "execution_count": 7,
   "id": "2b78eecf",
   "metadata": {
    "colab": {
     "base_uri": "https://localhost:8080/"
    },
    "executionInfo": {
     "elapsed": 6,
     "status": "ok",
     "timestamp": 1653489981716,
     "user": {
      "displayName": "Francisco Ponce",
      "userId": "03873220340391419698"
     },
     "user_tz": 300
    },
    "id": "2b78eecf",
    "outputId": "7e21d8c4-ab6f-4d5e-b68f-3d99ce52ff4f"
   },
   "outputs": [
    {
     "data": {
      "text/plain": [
       "department                 0\n",
       "region                     0\n",
       "education               2409\n",
       "gender                     0\n",
       "recruitment_channel        0\n",
       "no_of_trainings            0\n",
       "age                        0\n",
       "previous_year_rating    4124\n",
       "length_of_service          0\n",
       "kpis_met_80                0\n",
       "awards_won                 0\n",
       "avg_training_score         0\n",
       "is_promoted                0\n",
       "dtype: int64"
      ]
     },
     "execution_count": 7,
     "metadata": {},
     "output_type": "execute_result"
    }
   ],
   "source": [
    "promotion_cleaned.isna().sum()"
   ]
  },
  {
   "cell_type": "code",
   "execution_count": 8,
   "id": "df727da1",
   "metadata": {
    "executionInfo": {
     "elapsed": 207,
     "status": "ok",
     "timestamp": 1653489981920,
     "user": {
      "displayName": "Francisco Ponce",
      "userId": "03873220340391419698"
     },
     "user_tz": 300
    },
    "id": "df727da1"
   },
   "outputs": [],
   "source": [
    "# It seems that there are employees that might not have a previous perfomance rating over the last year, these employees shouldn't be considered to have a promotion"
   ]
  },
  {
   "cell_type": "code",
   "execution_count": 9,
   "id": "bbc5614d",
   "metadata": {
    "colab": {
     "base_uri": "https://localhost:8080/"
    },
    "executionInfo": {
     "elapsed": 10,
     "status": "ok",
     "timestamp": 1653489981921,
     "user": {
      "displayName": "Francisco Ponce",
      "userId": "03873220340391419698"
     },
     "user_tz": 300
    },
    "id": "bbc5614d",
    "outputId": "13fa56e3-f55f-4e86-f228-1cb57830ccf3"
   },
   "outputs": [
    {
     "data": {
      "text/plain": [
       "array([ 5.,  3.,  1.,  4., nan,  2.])"
      ]
     },
     "execution_count": 9,
     "metadata": {},
     "output_type": "execute_result"
    }
   ],
   "source": [
    "promotion_cleaned['previous_year_rating'].unique()"
   ]
  },
  {
   "cell_type": "code",
   "execution_count": 10,
   "id": "8eef588d",
   "metadata": {
    "colab": {
     "base_uri": "https://localhost:8080/",
     "height": 539
    },
    "executionInfo": {
     "elapsed": 8,
     "status": "ok",
     "timestamp": 1653489981922,
     "user": {
      "displayName": "Francisco Ponce",
      "userId": "03873220340391419698"
     },
     "user_tz": 300
    },
    "id": "8eef588d",
    "outputId": "5ffb14f9-52ab-42de-e233-da2f523a3b63"
   },
   "outputs": [
    {
     "data": {
      "text/html": [
       "<div>\n",
       "<style scoped>\n",
       "    .dataframe tbody tr th:only-of-type {\n",
       "        vertical-align: middle;\n",
       "    }\n",
       "\n",
       "    .dataframe tbody tr th {\n",
       "        vertical-align: top;\n",
       "    }\n",
       "\n",
       "    .dataframe thead th {\n",
       "        text-align: right;\n",
       "    }\n",
       "</style>\n",
       "<table border=\"1\" class=\"dataframe\">\n",
       "  <thead>\n",
       "    <tr style=\"text-align: right;\">\n",
       "      <th></th>\n",
       "      <th>department</th>\n",
       "      <th>region</th>\n",
       "      <th>education</th>\n",
       "      <th>gender</th>\n",
       "      <th>recruitment_channel</th>\n",
       "      <th>no_of_trainings</th>\n",
       "      <th>age</th>\n",
       "      <th>previous_year_rating</th>\n",
       "      <th>length_of_service</th>\n",
       "      <th>kpis_met_80</th>\n",
       "      <th>awards_won</th>\n",
       "      <th>avg_training_score</th>\n",
       "      <th>is_promoted</th>\n",
       "    </tr>\n",
       "  </thead>\n",
       "  <tbody>\n",
       "    <tr>\n",
       "      <th>10</th>\n",
       "      <td>Technology</td>\n",
       "      <td>region_23</td>\n",
       "      <td>NaN</td>\n",
       "      <td>m</td>\n",
       "      <td>sourcing</td>\n",
       "      <td>1</td>\n",
       "      <td>30</td>\n",
       "      <td>NaN</td>\n",
       "      <td>1</td>\n",
       "      <td>0</td>\n",
       "      <td>0</td>\n",
       "      <td>77</td>\n",
       "      <td>0</td>\n",
       "    </tr>\n",
       "    <tr>\n",
       "      <th>23</th>\n",
       "      <td>Procurement</td>\n",
       "      <td>region_5</td>\n",
       "      <td>Bachelor's</td>\n",
       "      <td>m</td>\n",
       "      <td>other</td>\n",
       "      <td>1</td>\n",
       "      <td>27</td>\n",
       "      <td>NaN</td>\n",
       "      <td>1</td>\n",
       "      <td>0</td>\n",
       "      <td>0</td>\n",
       "      <td>70</td>\n",
       "      <td>0</td>\n",
       "    </tr>\n",
       "    <tr>\n",
       "      <th>29</th>\n",
       "      <td>Sales &amp; Marketing</td>\n",
       "      <td>region_4</td>\n",
       "      <td>Bachelor's</td>\n",
       "      <td>m</td>\n",
       "      <td>sourcing</td>\n",
       "      <td>1</td>\n",
       "      <td>26</td>\n",
       "      <td>NaN</td>\n",
       "      <td>1</td>\n",
       "      <td>0</td>\n",
       "      <td>0</td>\n",
       "      <td>44</td>\n",
       "      <td>0</td>\n",
       "    </tr>\n",
       "    <tr>\n",
       "      <th>56</th>\n",
       "      <td>Sales &amp; Marketing</td>\n",
       "      <td>region_31</td>\n",
       "      <td>Bachelor's</td>\n",
       "      <td>f</td>\n",
       "      <td>other</td>\n",
       "      <td>1</td>\n",
       "      <td>29</td>\n",
       "      <td>NaN</td>\n",
       "      <td>1</td>\n",
       "      <td>0</td>\n",
       "      <td>0</td>\n",
       "      <td>49</td>\n",
       "      <td>0</td>\n",
       "    </tr>\n",
       "    <tr>\n",
       "      <th>58</th>\n",
       "      <td>Sales &amp; Marketing</td>\n",
       "      <td>region_16</td>\n",
       "      <td>Bachelor's</td>\n",
       "      <td>m</td>\n",
       "      <td>other</td>\n",
       "      <td>2</td>\n",
       "      <td>27</td>\n",
       "      <td>NaN</td>\n",
       "      <td>1</td>\n",
       "      <td>1</td>\n",
       "      <td>0</td>\n",
       "      <td>47</td>\n",
       "      <td>0</td>\n",
       "    </tr>\n",
       "    <tr>\n",
       "      <th>...</th>\n",
       "      <td>...</td>\n",
       "      <td>...</td>\n",
       "      <td>...</td>\n",
       "      <td>...</td>\n",
       "      <td>...</td>\n",
       "      <td>...</td>\n",
       "      <td>...</td>\n",
       "      <td>...</td>\n",
       "      <td>...</td>\n",
       "      <td>...</td>\n",
       "      <td>...</td>\n",
       "      <td>...</td>\n",
       "      <td>...</td>\n",
       "    </tr>\n",
       "    <tr>\n",
       "      <th>54703</th>\n",
       "      <td>R&amp;D</td>\n",
       "      <td>region_31</td>\n",
       "      <td>Bachelor's</td>\n",
       "      <td>m</td>\n",
       "      <td>sourcing</td>\n",
       "      <td>1</td>\n",
       "      <td>30</td>\n",
       "      <td>NaN</td>\n",
       "      <td>1</td>\n",
       "      <td>1</td>\n",
       "      <td>0</td>\n",
       "      <td>88</td>\n",
       "      <td>0</td>\n",
       "    </tr>\n",
       "    <tr>\n",
       "      <th>54734</th>\n",
       "      <td>Operations</td>\n",
       "      <td>region_15</td>\n",
       "      <td>Bachelor's</td>\n",
       "      <td>m</td>\n",
       "      <td>sourcing</td>\n",
       "      <td>1</td>\n",
       "      <td>31</td>\n",
       "      <td>NaN</td>\n",
       "      <td>1</td>\n",
       "      <td>1</td>\n",
       "      <td>0</td>\n",
       "      <td>56</td>\n",
       "      <td>1</td>\n",
       "    </tr>\n",
       "    <tr>\n",
       "      <th>54746</th>\n",
       "      <td>Finance</td>\n",
       "      <td>region_6</td>\n",
       "      <td>Bachelor's</td>\n",
       "      <td>m</td>\n",
       "      <td>other</td>\n",
       "      <td>1</td>\n",
       "      <td>28</td>\n",
       "      <td>NaN</td>\n",
       "      <td>1</td>\n",
       "      <td>1</td>\n",
       "      <td>0</td>\n",
       "      <td>61</td>\n",
       "      <td>0</td>\n",
       "    </tr>\n",
       "    <tr>\n",
       "      <th>54773</th>\n",
       "      <td>Finance</td>\n",
       "      <td>region_2</td>\n",
       "      <td>Bachelor's</td>\n",
       "      <td>m</td>\n",
       "      <td>other</td>\n",
       "      <td>1</td>\n",
       "      <td>23</td>\n",
       "      <td>NaN</td>\n",
       "      <td>1</td>\n",
       "      <td>1</td>\n",
       "      <td>0</td>\n",
       "      <td>61</td>\n",
       "      <td>0</td>\n",
       "    </tr>\n",
       "    <tr>\n",
       "      <th>54801</th>\n",
       "      <td>Technology</td>\n",
       "      <td>region_26</td>\n",
       "      <td>Bachelor's</td>\n",
       "      <td>f</td>\n",
       "      <td>sourcing</td>\n",
       "      <td>1</td>\n",
       "      <td>31</td>\n",
       "      <td>NaN</td>\n",
       "      <td>1</td>\n",
       "      <td>0</td>\n",
       "      <td>0</td>\n",
       "      <td>78</td>\n",
       "      <td>0</td>\n",
       "    </tr>\n",
       "  </tbody>\n",
       "</table>\n",
       "<p>4124 rows × 13 columns</p>\n",
       "</div>"
      ],
      "text/plain": [
       "              department     region   education gender recruitment_channel  \\\n",
       "10            Technology  region_23         NaN      m            sourcing   \n",
       "23           Procurement   region_5  Bachelor's      m               other   \n",
       "29     Sales & Marketing   region_4  Bachelor's      m            sourcing   \n",
       "56     Sales & Marketing  region_31  Bachelor's      f               other   \n",
       "58     Sales & Marketing  region_16  Bachelor's      m               other   \n",
       "...                  ...        ...         ...    ...                 ...   \n",
       "54703                R&D  region_31  Bachelor's      m            sourcing   \n",
       "54734         Operations  region_15  Bachelor's      m            sourcing   \n",
       "54746            Finance   region_6  Bachelor's      m               other   \n",
       "54773            Finance   region_2  Bachelor's      m               other   \n",
       "54801         Technology  region_26  Bachelor's      f            sourcing   \n",
       "\n",
       "       no_of_trainings  age  previous_year_rating  length_of_service  \\\n",
       "10                   1   30                   NaN                  1   \n",
       "23                   1   27                   NaN                  1   \n",
       "29                   1   26                   NaN                  1   \n",
       "56                   1   29                   NaN                  1   \n",
       "58                   2   27                   NaN                  1   \n",
       "...                ...  ...                   ...                ...   \n",
       "54703                1   30                   NaN                  1   \n",
       "54734                1   31                   NaN                  1   \n",
       "54746                1   28                   NaN                  1   \n",
       "54773                1   23                   NaN                  1   \n",
       "54801                1   31                   NaN                  1   \n",
       "\n",
       "       kpis_met_80  awards_won  avg_training_score  is_promoted  \n",
       "10               0           0                  77            0  \n",
       "23               0           0                  70            0  \n",
       "29               0           0                  44            0  \n",
       "56               0           0                  49            0  \n",
       "58               1           0                  47            0  \n",
       "...            ...         ...                 ...          ...  \n",
       "54703            1           0                  88            0  \n",
       "54734            1           0                  56            1  \n",
       "54746            1           0                  61            0  \n",
       "54773            1           0                  61            0  \n",
       "54801            0           0                  78            0  \n",
       "\n",
       "[4124 rows x 13 columns]"
      ]
     },
     "execution_count": 10,
     "metadata": {},
     "output_type": "execute_result"
    }
   ],
   "source": [
    "filter_by_previous_rating = promotion_cleaned[promotion_cleaned['previous_year_rating'].isna()]\n",
    "filter_by_previous_rating"
   ]
  },
  {
   "cell_type": "code",
   "execution_count": 11,
   "id": "d766f954",
   "metadata": {
    "colab": {
     "base_uri": "https://localhost:8080/",
     "height": 539
    },
    "executionInfo": {
     "elapsed": 7,
     "status": "ok",
     "timestamp": 1653489981922,
     "user": {
      "displayName": "Francisco Ponce",
      "userId": "03873220340391419698"
     },
     "user_tz": 300
    },
    "id": "d766f954",
    "outputId": "c1469ac9-7100-4b1b-bd17-f6a5d2b943d6"
   },
   "outputs": [
    {
     "data": {
      "text/html": [
       "<div>\n",
       "<style scoped>\n",
       "    .dataframe tbody tr th:only-of-type {\n",
       "        vertical-align: middle;\n",
       "    }\n",
       "\n",
       "    .dataframe tbody tr th {\n",
       "        vertical-align: top;\n",
       "    }\n",
       "\n",
       "    .dataframe thead th {\n",
       "        text-align: right;\n",
       "    }\n",
       "</style>\n",
       "<table border=\"1\" class=\"dataframe\">\n",
       "  <thead>\n",
       "    <tr style=\"text-align: right;\">\n",
       "      <th></th>\n",
       "      <th>department</th>\n",
       "      <th>region</th>\n",
       "      <th>education</th>\n",
       "      <th>gender</th>\n",
       "      <th>recruitment_channel</th>\n",
       "      <th>no_of_trainings</th>\n",
       "      <th>age</th>\n",
       "      <th>previous_year_rating</th>\n",
       "      <th>length_of_service</th>\n",
       "      <th>kpis_met_80</th>\n",
       "      <th>awards_won</th>\n",
       "      <th>avg_training_score</th>\n",
       "      <th>is_promoted</th>\n",
       "    </tr>\n",
       "  </thead>\n",
       "  <tbody>\n",
       "    <tr>\n",
       "      <th>10</th>\n",
       "      <td>Technology</td>\n",
       "      <td>region_23</td>\n",
       "      <td>NaN</td>\n",
       "      <td>m</td>\n",
       "      <td>sourcing</td>\n",
       "      <td>1</td>\n",
       "      <td>30</td>\n",
       "      <td>NaN</td>\n",
       "      <td>1</td>\n",
       "      <td>0</td>\n",
       "      <td>0</td>\n",
       "      <td>77</td>\n",
       "      <td>0</td>\n",
       "    </tr>\n",
       "    <tr>\n",
       "      <th>23</th>\n",
       "      <td>Procurement</td>\n",
       "      <td>region_5</td>\n",
       "      <td>Bachelor's</td>\n",
       "      <td>m</td>\n",
       "      <td>other</td>\n",
       "      <td>1</td>\n",
       "      <td>27</td>\n",
       "      <td>NaN</td>\n",
       "      <td>1</td>\n",
       "      <td>0</td>\n",
       "      <td>0</td>\n",
       "      <td>70</td>\n",
       "      <td>0</td>\n",
       "    </tr>\n",
       "    <tr>\n",
       "      <th>29</th>\n",
       "      <td>Sales &amp; Marketing</td>\n",
       "      <td>region_4</td>\n",
       "      <td>Bachelor's</td>\n",
       "      <td>m</td>\n",
       "      <td>sourcing</td>\n",
       "      <td>1</td>\n",
       "      <td>26</td>\n",
       "      <td>NaN</td>\n",
       "      <td>1</td>\n",
       "      <td>0</td>\n",
       "      <td>0</td>\n",
       "      <td>44</td>\n",
       "      <td>0</td>\n",
       "    </tr>\n",
       "    <tr>\n",
       "      <th>56</th>\n",
       "      <td>Sales &amp; Marketing</td>\n",
       "      <td>region_31</td>\n",
       "      <td>Bachelor's</td>\n",
       "      <td>f</td>\n",
       "      <td>other</td>\n",
       "      <td>1</td>\n",
       "      <td>29</td>\n",
       "      <td>NaN</td>\n",
       "      <td>1</td>\n",
       "      <td>0</td>\n",
       "      <td>0</td>\n",
       "      <td>49</td>\n",
       "      <td>0</td>\n",
       "    </tr>\n",
       "    <tr>\n",
       "      <th>58</th>\n",
       "      <td>Sales &amp; Marketing</td>\n",
       "      <td>region_16</td>\n",
       "      <td>Bachelor's</td>\n",
       "      <td>m</td>\n",
       "      <td>other</td>\n",
       "      <td>2</td>\n",
       "      <td>27</td>\n",
       "      <td>NaN</td>\n",
       "      <td>1</td>\n",
       "      <td>1</td>\n",
       "      <td>0</td>\n",
       "      <td>47</td>\n",
       "      <td>0</td>\n",
       "    </tr>\n",
       "    <tr>\n",
       "      <th>...</th>\n",
       "      <td>...</td>\n",
       "      <td>...</td>\n",
       "      <td>...</td>\n",
       "      <td>...</td>\n",
       "      <td>...</td>\n",
       "      <td>...</td>\n",
       "      <td>...</td>\n",
       "      <td>...</td>\n",
       "      <td>...</td>\n",
       "      <td>...</td>\n",
       "      <td>...</td>\n",
       "      <td>...</td>\n",
       "      <td>...</td>\n",
       "    </tr>\n",
       "    <tr>\n",
       "      <th>54703</th>\n",
       "      <td>R&amp;D</td>\n",
       "      <td>region_31</td>\n",
       "      <td>Bachelor's</td>\n",
       "      <td>m</td>\n",
       "      <td>sourcing</td>\n",
       "      <td>1</td>\n",
       "      <td>30</td>\n",
       "      <td>NaN</td>\n",
       "      <td>1</td>\n",
       "      <td>1</td>\n",
       "      <td>0</td>\n",
       "      <td>88</td>\n",
       "      <td>0</td>\n",
       "    </tr>\n",
       "    <tr>\n",
       "      <th>54734</th>\n",
       "      <td>Operations</td>\n",
       "      <td>region_15</td>\n",
       "      <td>Bachelor's</td>\n",
       "      <td>m</td>\n",
       "      <td>sourcing</td>\n",
       "      <td>1</td>\n",
       "      <td>31</td>\n",
       "      <td>NaN</td>\n",
       "      <td>1</td>\n",
       "      <td>1</td>\n",
       "      <td>0</td>\n",
       "      <td>56</td>\n",
       "      <td>1</td>\n",
       "    </tr>\n",
       "    <tr>\n",
       "      <th>54746</th>\n",
       "      <td>Finance</td>\n",
       "      <td>region_6</td>\n",
       "      <td>Bachelor's</td>\n",
       "      <td>m</td>\n",
       "      <td>other</td>\n",
       "      <td>1</td>\n",
       "      <td>28</td>\n",
       "      <td>NaN</td>\n",
       "      <td>1</td>\n",
       "      <td>1</td>\n",
       "      <td>0</td>\n",
       "      <td>61</td>\n",
       "      <td>0</td>\n",
       "    </tr>\n",
       "    <tr>\n",
       "      <th>54773</th>\n",
       "      <td>Finance</td>\n",
       "      <td>region_2</td>\n",
       "      <td>Bachelor's</td>\n",
       "      <td>m</td>\n",
       "      <td>other</td>\n",
       "      <td>1</td>\n",
       "      <td>23</td>\n",
       "      <td>NaN</td>\n",
       "      <td>1</td>\n",
       "      <td>1</td>\n",
       "      <td>0</td>\n",
       "      <td>61</td>\n",
       "      <td>0</td>\n",
       "    </tr>\n",
       "    <tr>\n",
       "      <th>54801</th>\n",
       "      <td>Technology</td>\n",
       "      <td>region_26</td>\n",
       "      <td>Bachelor's</td>\n",
       "      <td>f</td>\n",
       "      <td>sourcing</td>\n",
       "      <td>1</td>\n",
       "      <td>31</td>\n",
       "      <td>NaN</td>\n",
       "      <td>1</td>\n",
       "      <td>0</td>\n",
       "      <td>0</td>\n",
       "      <td>78</td>\n",
       "      <td>0</td>\n",
       "    </tr>\n",
       "  </tbody>\n",
       "</table>\n",
       "<p>4124 rows × 13 columns</p>\n",
       "</div>"
      ],
      "text/plain": [
       "              department     region   education gender recruitment_channel  \\\n",
       "10            Technology  region_23         NaN      m            sourcing   \n",
       "23           Procurement   region_5  Bachelor's      m               other   \n",
       "29     Sales & Marketing   region_4  Bachelor's      m            sourcing   \n",
       "56     Sales & Marketing  region_31  Bachelor's      f               other   \n",
       "58     Sales & Marketing  region_16  Bachelor's      m               other   \n",
       "...                  ...        ...         ...    ...                 ...   \n",
       "54703                R&D  region_31  Bachelor's      m            sourcing   \n",
       "54734         Operations  region_15  Bachelor's      m            sourcing   \n",
       "54746            Finance   region_6  Bachelor's      m               other   \n",
       "54773            Finance   region_2  Bachelor's      m               other   \n",
       "54801         Technology  region_26  Bachelor's      f            sourcing   \n",
       "\n",
       "       no_of_trainings  age  previous_year_rating  length_of_service  \\\n",
       "10                   1   30                   NaN                  1   \n",
       "23                   1   27                   NaN                  1   \n",
       "29                   1   26                   NaN                  1   \n",
       "56                   1   29                   NaN                  1   \n",
       "58                   2   27                   NaN                  1   \n",
       "...                ...  ...                   ...                ...   \n",
       "54703                1   30                   NaN                  1   \n",
       "54734                1   31                   NaN                  1   \n",
       "54746                1   28                   NaN                  1   \n",
       "54773                1   23                   NaN                  1   \n",
       "54801                1   31                   NaN                  1   \n",
       "\n",
       "       kpis_met_80  awards_won  avg_training_score  is_promoted  \n",
       "10               0           0                  77            0  \n",
       "23               0           0                  70            0  \n",
       "29               0           0                  44            0  \n",
       "56               0           0                  49            0  \n",
       "58               1           0                  47            0  \n",
       "...            ...         ...                 ...          ...  \n",
       "54703            1           0                  88            0  \n",
       "54734            1           0                  56            1  \n",
       "54746            1           0                  61            0  \n",
       "54773            1           0                  61            0  \n",
       "54801            0           0                  78            0  \n",
       "\n",
       "[4124 rows x 13 columns]"
      ]
     },
     "execution_count": 11,
     "metadata": {},
     "output_type": "execute_result"
    }
   ],
   "source": [
    "filter_by_previousrating_lengthservice = promotion_cleaned[(promotion_cleaned['previous_year_rating'].isna()) & (promotion_cleaned['length_of_service'] <= 1)]\n",
    "filter_by_previousrating_lengthservice"
   ]
  },
  {
   "cell_type": "code",
   "execution_count": 12,
   "id": "25c287fb",
   "metadata": {
    "colab": {
     "base_uri": "https://localhost:8080/"
    },
    "executionInfo": {
     "elapsed": 372,
     "status": "ok",
     "timestamp": 1653489982287,
     "user": {
      "displayName": "Francisco Ponce",
      "userId": "03873220340391419698"
     },
     "user_tz": 300
    },
    "id": "25c287fb",
    "outputId": "673ee01d-e4c1-43b7-ffca-61bfcdfa0f3b"
   },
   "outputs": [
    {
     "data": {
      "text/plain": [
       "{True}"
      ]
     },
     "execution_count": 12,
     "metadata": {},
     "output_type": "execute_result"
    }
   ],
   "source": [
    "comparison = filter_by_previousrating_lengthservice.index == filter_by_previous_rating.index\n",
    "set(comparison)"
   ]
  },
  {
   "cell_type": "code",
   "execution_count": 13,
   "id": "3e16e054",
   "metadata": {
    "executionInfo": {
     "elapsed": 22,
     "status": "ok",
     "timestamp": 1653489982288,
     "user": {
      "displayName": "Francisco Ponce",
      "userId": "03873220340391419698"
     },
     "user_tz": 300
    },
    "id": "3e16e054"
   },
   "outputs": [],
   "source": [
    "promotion_cleaned = promotion_cleaned.drop(filter_by_previous_rating.index)"
   ]
  },
  {
   "cell_type": "code",
   "execution_count": 14,
   "id": "56103b1f",
   "metadata": {
    "executionInfo": {
     "elapsed": 16,
     "status": "ok",
     "timestamp": 1653489982288,
     "user": {
      "displayName": "Francisco Ponce",
      "userId": "03873220340391419698"
     },
     "user_tz": 300
    },
    "id": "56103b1f"
   },
   "outputs": [],
   "source": [
    "# promotion_cleaned['previous_year_rating'] = promotion_cleaned['previous_year_rating'].fillna(0.0).reset_index(drop=True)"
   ]
  },
  {
   "cell_type": "code",
   "execution_count": 15,
   "id": "c8ba4308",
   "metadata": {
    "colab": {
     "base_uri": "https://localhost:8080/"
    },
    "executionInfo": {
     "elapsed": 15,
     "status": "ok",
     "timestamp": 1653489982288,
     "user": {
      "displayName": "Francisco Ponce",
      "userId": "03873220340391419698"
     },
     "user_tz": 300
    },
    "id": "c8ba4308",
    "outputId": "f6058d39-0132-4bf6-ddfb-be51f0e1d5ac"
   },
   "outputs": [
    {
     "data": {
      "text/plain": [
       "department                 0\n",
       "region                     0\n",
       "education               2024\n",
       "gender                     0\n",
       "recruitment_channel        0\n",
       "no_of_trainings            0\n",
       "age                        0\n",
       "previous_year_rating       0\n",
       "length_of_service          0\n",
       "kpis_met_80                0\n",
       "awards_won                 0\n",
       "avg_training_score         0\n",
       "is_promoted                0\n",
       "dtype: int64"
      ]
     },
     "execution_count": 15,
     "metadata": {},
     "output_type": "execute_result"
    }
   ],
   "source": [
    "promotion_cleaned.isna().sum()"
   ]
  },
  {
   "cell_type": "code",
   "execution_count": 16,
   "id": "b520f6df",
   "metadata": {
    "colab": {
     "base_uri": "https://localhost:8080/"
    },
    "executionInfo": {
     "elapsed": 256,
     "status": "ok",
     "timestamp": 1653489982537,
     "user": {
      "displayName": "Francisco Ponce",
      "userId": "03873220340391419698"
     },
     "user_tz": 300
    },
    "id": "b520f6df",
    "outputId": "2a7a6c8f-bb71-4984-a9ef-6164e9dded24"
   },
   "outputs": [
    {
     "data": {
      "text/plain": [
       "0    46355\n",
       "1     4329\n",
       "Name: is_promoted, dtype: int64"
      ]
     },
     "execution_count": 16,
     "metadata": {},
     "output_type": "execute_result"
    }
   ],
   "source": [
    "promotion_cleaned['is_promoted'].value_counts()"
   ]
  },
  {
   "cell_type": "code",
   "execution_count": 17,
   "id": "ad59c13b",
   "metadata": {
    "colab": {
     "base_uri": "https://localhost:8080/",
     "height": 644
    },
    "executionInfo": {
     "elapsed": 10,
     "status": "ok",
     "timestamp": 1653489982537,
     "user": {
      "displayName": "Francisco Ponce",
      "userId": "03873220340391419698"
     },
     "user_tz": 300
    },
    "id": "ad59c13b",
    "outputId": "89ae954e-0c53-4055-aa24-f9fba629ed31"
   },
   "outputs": [
    {
     "data": {
      "text/html": [
       "<div>\n",
       "<style scoped>\n",
       "    .dataframe tbody tr th:only-of-type {\n",
       "        vertical-align: middle;\n",
       "    }\n",
       "\n",
       "    .dataframe tbody tr th {\n",
       "        vertical-align: top;\n",
       "    }\n",
       "\n",
       "    .dataframe thead th {\n",
       "        text-align: right;\n",
       "    }\n",
       "</style>\n",
       "<table border=\"1\" class=\"dataframe\">\n",
       "  <thead>\n",
       "    <tr style=\"text-align: right;\">\n",
       "      <th></th>\n",
       "      <th>department</th>\n",
       "      <th>region</th>\n",
       "      <th>education</th>\n",
       "      <th>gender</th>\n",
       "      <th>recruitment_channel</th>\n",
       "      <th>no_of_trainings</th>\n",
       "      <th>age</th>\n",
       "      <th>previous_year_rating</th>\n",
       "      <th>length_of_service</th>\n",
       "      <th>kpis_met_80</th>\n",
       "      <th>awards_won</th>\n",
       "      <th>avg_training_score</th>\n",
       "      <th>is_promoted</th>\n",
       "    </tr>\n",
       "  </thead>\n",
       "  <tbody>\n",
       "    <tr>\n",
       "      <th>323</th>\n",
       "      <td>Sales &amp; Marketing</td>\n",
       "      <td>region_2</td>\n",
       "      <td>NaN</td>\n",
       "      <td>m</td>\n",
       "      <td>other</td>\n",
       "      <td>1</td>\n",
       "      <td>22</td>\n",
       "      <td>5.0</td>\n",
       "      <td>2</td>\n",
       "      <td>0</td>\n",
       "      <td>0</td>\n",
       "      <td>62</td>\n",
       "      <td>1</td>\n",
       "    </tr>\n",
       "    <tr>\n",
       "      <th>359</th>\n",
       "      <td>Sales &amp; Marketing</td>\n",
       "      <td>region_28</td>\n",
       "      <td>NaN</td>\n",
       "      <td>m</td>\n",
       "      <td>other</td>\n",
       "      <td>1</td>\n",
       "      <td>24</td>\n",
       "      <td>2.0</td>\n",
       "      <td>2</td>\n",
       "      <td>1</td>\n",
       "      <td>0</td>\n",
       "      <td>52</td>\n",
       "      <td>1</td>\n",
       "    </tr>\n",
       "    <tr>\n",
       "      <th>574</th>\n",
       "      <td>Sales &amp; Marketing</td>\n",
       "      <td>region_2</td>\n",
       "      <td>NaN</td>\n",
       "      <td>m</td>\n",
       "      <td>other</td>\n",
       "      <td>1</td>\n",
       "      <td>24</td>\n",
       "      <td>3.0</td>\n",
       "      <td>2</td>\n",
       "      <td>1</td>\n",
       "      <td>1</td>\n",
       "      <td>81</td>\n",
       "      <td>1</td>\n",
       "    </tr>\n",
       "    <tr>\n",
       "      <th>867</th>\n",
       "      <td>Sales &amp; Marketing</td>\n",
       "      <td>region_28</td>\n",
       "      <td>NaN</td>\n",
       "      <td>m</td>\n",
       "      <td>other</td>\n",
       "      <td>1</td>\n",
       "      <td>25</td>\n",
       "      <td>4.0</td>\n",
       "      <td>3</td>\n",
       "      <td>1</td>\n",
       "      <td>0</td>\n",
       "      <td>64</td>\n",
       "      <td>1</td>\n",
       "    </tr>\n",
       "    <tr>\n",
       "      <th>1585</th>\n",
       "      <td>Sales &amp; Marketing</td>\n",
       "      <td>region_28</td>\n",
       "      <td>NaN</td>\n",
       "      <td>m</td>\n",
       "      <td>other</td>\n",
       "      <td>1</td>\n",
       "      <td>34</td>\n",
       "      <td>5.0</td>\n",
       "      <td>7</td>\n",
       "      <td>1</td>\n",
       "      <td>0</td>\n",
       "      <td>53</td>\n",
       "      <td>1</td>\n",
       "    </tr>\n",
       "    <tr>\n",
       "      <th>...</th>\n",
       "      <td>...</td>\n",
       "      <td>...</td>\n",
       "      <td>...</td>\n",
       "      <td>...</td>\n",
       "      <td>...</td>\n",
       "      <td>...</td>\n",
       "      <td>...</td>\n",
       "      <td>...</td>\n",
       "      <td>...</td>\n",
       "      <td>...</td>\n",
       "      <td>...</td>\n",
       "      <td>...</td>\n",
       "      <td>...</td>\n",
       "    </tr>\n",
       "    <tr>\n",
       "      <th>52061</th>\n",
       "      <td>Sales &amp; Marketing</td>\n",
       "      <td>region_28</td>\n",
       "      <td>NaN</td>\n",
       "      <td>m</td>\n",
       "      <td>other</td>\n",
       "      <td>1</td>\n",
       "      <td>31</td>\n",
       "      <td>5.0</td>\n",
       "      <td>6</td>\n",
       "      <td>1</td>\n",
       "      <td>0</td>\n",
       "      <td>51</td>\n",
       "      <td>1</td>\n",
       "    </tr>\n",
       "    <tr>\n",
       "      <th>52123</th>\n",
       "      <td>Sales &amp; Marketing</td>\n",
       "      <td>region_2</td>\n",
       "      <td>NaN</td>\n",
       "      <td>m</td>\n",
       "      <td>sourcing</td>\n",
       "      <td>1</td>\n",
       "      <td>24</td>\n",
       "      <td>4.0</td>\n",
       "      <td>3</td>\n",
       "      <td>1</td>\n",
       "      <td>1</td>\n",
       "      <td>92</td>\n",
       "      <td>1</td>\n",
       "    </tr>\n",
       "    <tr>\n",
       "      <th>53064</th>\n",
       "      <td>Sales &amp; Marketing</td>\n",
       "      <td>region_2</td>\n",
       "      <td>NaN</td>\n",
       "      <td>m</td>\n",
       "      <td>other</td>\n",
       "      <td>1</td>\n",
       "      <td>32</td>\n",
       "      <td>5.0</td>\n",
       "      <td>5</td>\n",
       "      <td>1</td>\n",
       "      <td>0</td>\n",
       "      <td>48</td>\n",
       "      <td>1</td>\n",
       "    </tr>\n",
       "    <tr>\n",
       "      <th>53612</th>\n",
       "      <td>Sales &amp; Marketing</td>\n",
       "      <td>region_22</td>\n",
       "      <td>NaN</td>\n",
       "      <td>m</td>\n",
       "      <td>other</td>\n",
       "      <td>1</td>\n",
       "      <td>24</td>\n",
       "      <td>4.0</td>\n",
       "      <td>2</td>\n",
       "      <td>0</td>\n",
       "      <td>0</td>\n",
       "      <td>98</td>\n",
       "      <td>1</td>\n",
       "    </tr>\n",
       "    <tr>\n",
       "      <th>53695</th>\n",
       "      <td>HR</td>\n",
       "      <td>region_2</td>\n",
       "      <td>NaN</td>\n",
       "      <td>m</td>\n",
       "      <td>sourcing</td>\n",
       "      <td>1</td>\n",
       "      <td>33</td>\n",
       "      <td>4.0</td>\n",
       "      <td>8</td>\n",
       "      <td>1</td>\n",
       "      <td>0</td>\n",
       "      <td>48</td>\n",
       "      <td>1</td>\n",
       "    </tr>\n",
       "  </tbody>\n",
       "</table>\n",
       "<p>97 rows × 13 columns</p>\n",
       "</div>"
      ],
      "text/plain": [
       "              department     region education gender recruitment_channel  \\\n",
       "323    Sales & Marketing   region_2       NaN      m               other   \n",
       "359    Sales & Marketing  region_28       NaN      m               other   \n",
       "574    Sales & Marketing   region_2       NaN      m               other   \n",
       "867    Sales & Marketing  region_28       NaN      m               other   \n",
       "1585   Sales & Marketing  region_28       NaN      m               other   \n",
       "...                  ...        ...       ...    ...                 ...   \n",
       "52061  Sales & Marketing  region_28       NaN      m               other   \n",
       "52123  Sales & Marketing   region_2       NaN      m            sourcing   \n",
       "53064  Sales & Marketing   region_2       NaN      m               other   \n",
       "53612  Sales & Marketing  region_22       NaN      m               other   \n",
       "53695                 HR   region_2       NaN      m            sourcing   \n",
       "\n",
       "       no_of_trainings  age  previous_year_rating  length_of_service  \\\n",
       "323                  1   22                   5.0                  2   \n",
       "359                  1   24                   2.0                  2   \n",
       "574                  1   24                   3.0                  2   \n",
       "867                  1   25                   4.0                  3   \n",
       "1585                 1   34                   5.0                  7   \n",
       "...                ...  ...                   ...                ...   \n",
       "52061                1   31                   5.0                  6   \n",
       "52123                1   24                   4.0                  3   \n",
       "53064                1   32                   5.0                  5   \n",
       "53612                1   24                   4.0                  2   \n",
       "53695                1   33                   4.0                  8   \n",
       "\n",
       "       kpis_met_80  awards_won  avg_training_score  is_promoted  \n",
       "323              0           0                  62            1  \n",
       "359              1           0                  52            1  \n",
       "574              1           1                  81            1  \n",
       "867              1           0                  64            1  \n",
       "1585             1           0                  53            1  \n",
       "...            ...         ...                 ...          ...  \n",
       "52061            1           0                  51            1  \n",
       "52123            1           1                  92            1  \n",
       "53064            1           0                  48            1  \n",
       "53612            0           0                  98            1  \n",
       "53695            1           0                  48            1  \n",
       "\n",
       "[97 rows x 13 columns]"
      ]
     },
     "execution_count": 17,
     "metadata": {},
     "output_type": "execute_result"
    }
   ],
   "source": [
    "promotion_cleaned[(promotion_cleaned['education'].isna()) & (promotion_cleaned['is_promoted'])]"
   ]
  },
  {
   "cell_type": "code",
   "execution_count": 18,
   "id": "08a5b114",
   "metadata": {
    "colab": {
     "base_uri": "https://localhost:8080/"
    },
    "executionInfo": {
     "elapsed": 10,
     "status": "ok",
     "timestamp": 1653489982537,
     "user": {
      "displayName": "Francisco Ponce",
      "userId": "03873220340391419698"
     },
     "user_tz": 300
    },
    "id": "08a5b114",
    "outputId": "9223a70a-f111-47ab-f4fd-e5654e0d5061"
   },
   "outputs": [
    {
     "data": {
      "text/plain": [
       "0.022407022407022407"
      ]
     },
     "execution_count": 18,
     "metadata": {},
     "output_type": "execute_result"
    }
   ],
   "source": [
    "len(promotion_cleaned[(promotion_cleaned['education'].isna()) & (promotion_cleaned['is_promoted'])])/len(promotion_cleaned[promotion_cleaned['is_promoted']==1])"
   ]
  },
  {
   "cell_type": "code",
   "execution_count": 19,
   "id": "02fd3a0a",
   "metadata": {
    "colab": {
     "base_uri": "https://localhost:8080/"
    },
    "executionInfo": {
     "elapsed": 9,
     "status": "ok",
     "timestamp": 1653489982538,
     "user": {
      "displayName": "Francisco Ponce",
      "userId": "03873220340391419698"
     },
     "user_tz": 300
    },
    "id": "02fd3a0a",
    "outputId": "643bfdc5-21fe-4916-c905-5eb06e0a0c88"
   },
   "outputs": [
    {
     "data": {
      "text/plain": [
       "department              0.000000\n",
       "region                  0.000000\n",
       "education               3.993371\n",
       "gender                  0.000000\n",
       "recruitment_channel     0.000000\n",
       "no_of_trainings         0.000000\n",
       "age                     0.000000\n",
       "previous_year_rating    0.000000\n",
       "length_of_service       0.000000\n",
       "kpis_met_80             0.000000\n",
       "awards_won              0.000000\n",
       "avg_training_score      0.000000\n",
       "is_promoted             0.000000\n",
       "dtype: float64"
      ]
     },
     "execution_count": 19,
     "metadata": {},
     "output_type": "execute_result"
    }
   ],
   "source": [
    "promotion_cleaned.isna().mean() * 100"
   ]
  },
  {
   "cell_type": "code",
   "execution_count": 20,
   "id": "8bc1c4cc",
   "metadata": {
    "executionInfo": {
     "elapsed": 5,
     "status": "ok",
     "timestamp": 1653489982538,
     "user": {
      "displayName": "Francisco Ponce",
      "userId": "03873220340391419698"
     },
     "user_tz": 300
    },
    "id": "8bc1c4cc"
   },
   "outputs": [],
   "source": [
    "# Since the representation of nulls is about 4% of the entire dataset and 2% of the promoted employees I decided to cleansed this data.\n",
    "# promotion_cleaned['education'] = promotion_cleaned['education'].fillna('not_specified').reset_index(drop=True)\n",
    "promotion_cleaned = promotion_cleaned.dropna()"
   ]
  },
  {
   "cell_type": "code",
   "execution_count": 21,
   "id": "e750f55e",
   "metadata": {
    "colab": {
     "base_uri": "https://localhost:8080/"
    },
    "executionInfo": {
     "elapsed": 409,
     "status": "ok",
     "timestamp": 1653489982942,
     "user": {
      "displayName": "Francisco Ponce",
      "userId": "03873220340391419698"
     },
     "user_tz": 300
    },
    "id": "e750f55e",
    "outputId": "3ad42e10-7fa9-4fa4-eb82-39d280e476e0"
   },
   "outputs": [
    {
     "data": {
      "text/plain": [
       "department              0.0\n",
       "region                  0.0\n",
       "education               0.0\n",
       "gender                  0.0\n",
       "recruitment_channel     0.0\n",
       "no_of_trainings         0.0\n",
       "age                     0.0\n",
       "previous_year_rating    0.0\n",
       "length_of_service       0.0\n",
       "kpis_met_80             0.0\n",
       "awards_won              0.0\n",
       "avg_training_score      0.0\n",
       "is_promoted             0.0\n",
       "dtype: float64"
      ]
     },
     "execution_count": 21,
     "metadata": {},
     "output_type": "execute_result"
    }
   ],
   "source": [
    "promotion_cleaned.isna().mean() * 100"
   ]
  },
  {
   "cell_type": "code",
   "execution_count": 22,
   "id": "978915c0",
   "metadata": {
    "colab": {
     "base_uri": "https://localhost:8080/"
    },
    "executionInfo": {
     "elapsed": 5,
     "status": "ok",
     "timestamp": 1653489982943,
     "user": {
      "displayName": "Francisco Ponce",
      "userId": "03873220340391419698"
     },
     "user_tz": 300
    },
    "id": "978915c0",
    "outputId": "a0aabfd5-6cdc-43e9-9451-09343a1e7bdd"
   },
   "outputs": [
    {
     "data": {
      "text/plain": [
       "department               9\n",
       "region                  34\n",
       "education                3\n",
       "gender                   2\n",
       "recruitment_channel      3\n",
       "no_of_trainings         10\n",
       "age                     41\n",
       "previous_year_rating     5\n",
       "length_of_service       35\n",
       "kpis_met_80              2\n",
       "awards_won               2\n",
       "avg_training_score      61\n",
       "is_promoted              2\n",
       "dtype: int64"
      ]
     },
     "execution_count": 22,
     "metadata": {},
     "output_type": "execute_result"
    }
   ],
   "source": [
    "promotion_cleaned.nunique()"
   ]
  },
  {
   "cell_type": "code",
   "execution_count": 23,
   "id": "0647dbd7",
   "metadata": {
    "executionInfo": {
     "elapsed": 2,
     "status": "ok",
     "timestamp": 1653489982943,
     "user": {
      "displayName": "Francisco Ponce",
      "userId": "03873220340391419698"
     },
     "user_tz": 300
    },
    "id": "0647dbd7"
   },
   "outputs": [],
   "source": [
    "# Dividing our dataset in numerical and categorical variables\n",
    "prom_numerical = promotion_cleaned.select_dtypes(include='number')\n",
    "prom_categorical = promotion_cleaned.select_dtypes(include='object')"
   ]
  },
  {
   "cell_type": "code",
   "execution_count": 24,
   "id": "a0d95d45",
   "metadata": {
    "colab": {
     "base_uri": "https://localhost:8080/",
     "height": 347
    },
    "executionInfo": {
     "elapsed": 306,
     "status": "ok",
     "timestamp": 1653489983247,
     "user": {
      "displayName": "Francisco Ponce",
      "userId": "03873220340391419698"
     },
     "user_tz": 300
    },
    "id": "a0d95d45",
    "outputId": "0fc88882-76ba-4cb1-a53f-4a8c6ae7149a"
   },
   "outputs": [
    {
     "data": {
      "image/png": "[encoded data removed]",
      "text/plain": [
       "<Figure size 432x288 with 1 Axes>"
      ]
     },
     "metadata": {
      "needs_background": "light"
     },
     "output_type": "display_data"
    }
   ],
   "source": [
    "promotion_count = promotion_cleaned['is_promoted'].value_counts()\n",
    "plot = promotion_count.plot.bar()\n",
    "plt.title('Distribución de los ascensos')\n",
    "plt.ylabel('Frecuencia')\n",
    "plt.xlabel('Ascenso')\n",
    "plt.xticks(range(2),['No ascendió', 'Ascendió'])\n",
    "\n",
    "for p in plot.patches:\n",
    "     plot.annotate(p.get_height(), \n",
    "                        (p.get_x() + p.get_width() / 2.0, \n",
    "                         p.get_height()), \n",
    "                        ha = 'center', \n",
    "                        va = 'center', \n",
    "                        xytext = (0, 5),\n",
    "                        textcoords = 'offset points')"
   ]
  },
  {
   "cell_type": "code",
   "execution_count": 25,
   "id": "363ac8da",
   "metadata": {},
   "outputs": [
    {
     "data": {
      "text/plain": [
       "0.09525524444044296"
      ]
     },
     "execution_count": 25,
     "metadata": {},
     "output_type": "execute_result"
    }
   ],
   "source": [
    "4232/44428"
   ]
  },
  {
   "cell_type": "code",
   "execution_count": 26,
   "id": "4c517fb8",
   "metadata": {
    "colab": {
     "base_uri": "https://localhost:8080/",
     "height": 300
    },
    "executionInfo": {
     "elapsed": 4,
     "status": "ok",
     "timestamp": 1653489983247,
     "user": {
      "displayName": "Francisco Ponce",
      "userId": "03873220340391419698"
     },
     "user_tz": 300
    },
    "id": "4c517fb8",
    "outputId": "3a45ceba-b661-4bb3-ace0-18727e354280"
   },
   "outputs": [
    {
     "data": {
      "text/html": [
       "<div>\n",
       "<style scoped>\n",
       "    .dataframe tbody tr th:only-of-type {\n",
       "        vertical-align: middle;\n",
       "    }\n",
       "\n",
       "    .dataframe tbody tr th {\n",
       "        vertical-align: top;\n",
       "    }\n",
       "\n",
       "    .dataframe thead th {\n",
       "        text-align: right;\n",
       "    }\n",
       "</style>\n",
       "<table border=\"1\" class=\"dataframe\">\n",
       "  <thead>\n",
       "    <tr style=\"text-align: right;\">\n",
       "      <th></th>\n",
       "      <th>no_of_trainings</th>\n",
       "      <th>age</th>\n",
       "      <th>previous_year_rating</th>\n",
       "      <th>length_of_service</th>\n",
       "      <th>kpis_met_80</th>\n",
       "      <th>awards_won</th>\n",
       "      <th>avg_training_score</th>\n",
       "      <th>is_promoted</th>\n",
       "    </tr>\n",
       "  </thead>\n",
       "  <tbody>\n",
       "    <tr>\n",
       "      <th>no_of_trainings</th>\n",
       "      <td>1.000000</td>\n",
       "      <td>-0.083590</td>\n",
       "      <td>-0.064236</td>\n",
       "      <td>-0.055440</td>\n",
       "      <td>-0.046673</td>\n",
       "      <td>-0.008528</td>\n",
       "      <td>0.042033</td>\n",
       "      <td>-0.025006</td>\n",
       "    </tr>\n",
       "    <tr>\n",
       "      <th>age</th>\n",
       "      <td>-0.083590</td>\n",
       "      <td>1.000000</td>\n",
       "      <td>0.005068</td>\n",
       "      <td>0.620348</td>\n",
       "      <td>-0.033886</td>\n",
       "      <td>-0.010335</td>\n",
       "      <td>-0.066214</td>\n",
       "      <td>-0.022412</td>\n",
       "    </tr>\n",
       "    <tr>\n",
       "      <th>previous_year_rating</th>\n",
       "      <td>-0.064236</td>\n",
       "      <td>0.005068</td>\n",
       "      <td>1.000000</td>\n",
       "      <td>-0.001252</td>\n",
       "      <td>0.352434</td>\n",
       "      <td>0.027920</td>\n",
       "      <td>0.070041</td>\n",
       "      <td>0.158715</td>\n",
       "    </tr>\n",
       "    <tr>\n",
       "      <th>length_of_service</th>\n",
       "      <td>-0.055440</td>\n",
       "      <td>0.620348</td>\n",
       "      <td>-0.001252</td>\n",
       "      <td>1.000000</td>\n",
       "      <td>-0.089081</td>\n",
       "      <td>-0.043750</td>\n",
       "      <td>-0.047461</td>\n",
       "      <td>-0.014267</td>\n",
       "    </tr>\n",
       "    <tr>\n",
       "      <th>kpis_met_80</th>\n",
       "      <td>-0.046673</td>\n",
       "      <td>-0.033886</td>\n",
       "      <td>0.352434</td>\n",
       "      <td>-0.089081</td>\n",
       "      <td>1.000000</td>\n",
       "      <td>0.095208</td>\n",
       "      <td>0.074114</td>\n",
       "      <td>0.219933</td>\n",
       "    </tr>\n",
       "    <tr>\n",
       "      <th>awards_won</th>\n",
       "      <td>-0.008528</td>\n",
       "      <td>-0.010335</td>\n",
       "      <td>0.027920</td>\n",
       "      <td>-0.043750</td>\n",
       "      <td>0.095208</td>\n",
       "      <td>1.000000</td>\n",
       "      <td>0.073132</td>\n",
       "      <td>0.196971</td>\n",
       "    </tr>\n",
       "    <tr>\n",
       "      <th>avg_training_score</th>\n",
       "      <td>0.042033</td>\n",
       "      <td>-0.066214</td>\n",
       "      <td>0.070041</td>\n",
       "      <td>-0.047461</td>\n",
       "      <td>0.074114</td>\n",
       "      <td>0.073132</td>\n",
       "      <td>1.000000</td>\n",
       "      <td>0.179494</td>\n",
       "    </tr>\n",
       "    <tr>\n",
       "      <th>is_promoted</th>\n",
       "      <td>-0.025006</td>\n",
       "      <td>-0.022412</td>\n",
       "      <td>0.158715</td>\n",
       "      <td>-0.014267</td>\n",
       "      <td>0.219933</td>\n",
       "      <td>0.196971</td>\n",
       "      <td>0.179494</td>\n",
       "      <td>1.000000</td>\n",
       "    </tr>\n",
       "  </tbody>\n",
       "</table>\n",
       "</div>"
      ],
      "text/plain": [
       "                      no_of_trainings       age  previous_year_rating  \\\n",
       "no_of_trainings              1.000000 -0.083590             -0.064236   \n",
       "age                         -0.083590  1.000000              0.005068   \n",
       "previous_year_rating        -0.064236  0.005068              1.000000   \n",
       "length_of_service           -0.055440  0.620348             -0.001252   \n",
       "kpis_met_80                 -0.046673 -0.033886              0.352434   \n",
       "awards_won                  -0.008528 -0.010335              0.027920   \n",
       "avg_training_score           0.042033 -0.066214              0.070041   \n",
       "is_promoted                 -0.025006 -0.022412              0.158715   \n",
       "\n",
       "                      length_of_service  kpis_met_80  awards_won  \\\n",
       "no_of_trainings               -0.055440    -0.046673   -0.008528   \n",
       "age                            0.620348    -0.033886   -0.010335   \n",
       "previous_year_rating          -0.001252     0.352434    0.027920   \n",
       "length_of_service              1.000000    -0.089081   -0.043750   \n",
       "kpis_met_80                   -0.089081     1.000000    0.095208   \n",
       "awards_won                    -0.043750     0.095208    1.000000   \n",
       "avg_training_score            -0.047461     0.074114    0.073132   \n",
       "is_promoted                   -0.014267     0.219933    0.196971   \n",
       "\n",
       "                      avg_training_score  is_promoted  \n",
       "no_of_trainings                 0.042033    -0.025006  \n",
       "age                            -0.066214    -0.022412  \n",
       "previous_year_rating            0.070041     0.158715  \n",
       "length_of_service              -0.047461    -0.014267  \n",
       "kpis_met_80                     0.074114     0.219933  \n",
       "awards_won                      0.073132     0.196971  \n",
       "avg_training_score              1.000000     0.179494  \n",
       "is_promoted                     0.179494     1.000000  "
      ]
     },
     "execution_count": 26,
     "metadata": {},
     "output_type": "execute_result"
    }
   ],
   "source": [
    "promotion_corr = prom_numerical.corr()\n",
    "promotion_corr"
   ]
  },
  {
   "cell_type": "code",
   "execution_count": 27,
   "id": "16e99c80",
   "metadata": {
    "colab": {
     "base_uri": "https://localhost:8080/",
     "height": 948
    },
    "executionInfo": {
     "elapsed": 1960,
     "status": "ok",
     "timestamp": 1653489985203,
     "user": {
      "displayName": "Francisco Ponce",
      "userId": "03873220340391419698"
     },
     "user_tz": 300
    },
    "id": "16e99c80",
    "outputId": "7c36663b-9497-4874-a686-f03c261a4a26"
   },
   "outputs": [
    {
     "data": {
      "image/png": "[encoded data removed]",
      "text/plain": [
       "<Figure size 1800x1080 with 2 Axes>"
      ]
     },
     "metadata": {},
     "output_type": "display_data"
    }
   ],
   "source": [
    "sns.set()\n",
    "\n",
    "fig, ax = plt.subplots(figsize=(25, 15))\n",
    "sns.heatmap(round(promotion_corr, 2), annot=True, ax=ax, cmap='coolwarm',\n",
    "            fmt='.2f', linewidths=0.5)\n",
    "fig.subplots_adjust(top=0.93)\n",
    "fig.suptitle('Mapa de Correlaciones');"
   ]
  },
  {
   "cell_type": "code",
   "execution_count": 28,
   "id": "882ee611",
   "metadata": {
    "colab": {
     "base_uri": "https://localhost:8080/",
     "height": 1000
    },
    "executionInfo": {
     "elapsed": 16903,
     "status": "ok",
     "timestamp": 1653490002102,
     "user": {
      "displayName": "Francisco Ponce",
      "userId": "03873220340391419698"
     },
     "user_tz": 300
    },
    "id": "882ee611",
    "outputId": "a052b7a4-f361-48b6-892f-04f5ab3c00a6"
   },
   "outputs": [
    {
     "name": "stdout",
     "output_type": "stream",
     "text": [
      "(0.47118599343686696, 0.0009999999999998899)\n"
     ]
    },
    {
     "data": {
      "image/png": "[encoded data removed]",
      "text/plain": [
       "<Figure size 720x360 with 2 Axes>"
      ]
     },
     "metadata": {},
     "output_type": "display_data"
    },
    {
     "name": "stdout",
     "output_type": "stream",
     "text": [
      "\n",
      "(0.11818976175096663, 0.0009999999999998899)\n"
     ]
    },
    {
     "data": {
      "image/png": "[encoded data removed]",
      "text/plain": [
       "<Figure size 720x360 with 2 Axes>"
      ]
     },
     "metadata": {},
     "output_type": "display_data"
    },
    {
     "name": "stdout",
     "output_type": "stream",
     "text": [
      "\n",
      "(0.19032187473206472, 0.0009999999999998899)\n"
     ]
    },
    {
     "data": {
      "image/png": "[encoded data removed]",
      "text/plain": [
       "<Figure size 720x360 with 2 Axes>"
      ]
     },
     "metadata": {},
     "output_type": "display_data"
    },
    {
     "name": "stdout",
     "output_type": "stream",
     "text": [
      "\n",
      "(0.16286067050250452, 0.0009999999999998899)\n"
     ]
    },
    {
     "data": {
      "image/png": "[encoded data removed]",
      "text/plain": [
       "<Figure size 720x360 with 2 Axes>"
      ]
     },
     "metadata": {},
     "output_type": "display_data"
    },
    {
     "name": "stdout",
     "output_type": "stream",
     "text": [
      "\n",
      "(0.4151675638366315, 0.0009999999999998899)\n"
     ]
    },
    {
     "data": {
      "image/png": "[encoded data removed]",
      "text/plain": [
       "<Figure size 720x360 with 2 Axes>"
      ]
     },
     "metadata": {},
     "output_type": "display_data"
    },
    {
     "name": "stdout",
     "output_type": "stream",
     "text": [
      "\n",
      "(0.5380188953320623, 0.0009999999999998899)\n"
     ]
    },
    {
     "data": {
      "image/png": "[encoded data removed]",
      "text/plain": [
       "<Figure size 720x360 with 2 Axes>"
      ]
     },
     "metadata": {},
     "output_type": "display_data"
    },
    {
     "name": "stdout",
     "output_type": "stream",
     "text": [
      "\n",
      "(0.11488032938111015, 0.0009999999999998899)\n"
     ]
    },
    {
     "data": {
      "image/png": "[encoded data removed]",
      "text/plain": [
       "<Figure size 720x360 with 2 Axes>"
      ]
     },
     "metadata": {},
     "output_type": "display_data"
    },
    {
     "name": "stdout",
     "output_type": "stream",
     "text": [
      "\n",
      "(0.5342281824737283, 0.0009999999999998899)\n"
     ]
    },
    {
     "data": {
      "image/png": "[encoded data removed]",
      "text/plain": [
       "<Figure size 720x360 with 2 Axes>"
      ]
     },
     "metadata": {},
     "output_type": "display_data"
    },
    {
     "name": "stdout",
     "output_type": "stream",
     "text": [
      "\n"
     ]
    }
   ],
   "source": [
    "for column in prom_numerical:\n",
    "    fig, ax = plt.subplots(1, 2, figsize=(10, 5))\n",
    "    sns.distplot(prom_numerical[column], kde=True, ax=ax[0])\n",
    "    sns.boxplot(prom_numerical[column], orient='h', ax=ax[1])\n",
    "    print(diagnostic.kstest_normal(prom_numerical[column]))\n",
    "    plt.show()\n",
    "    print('');"
   ]
  },
  {
   "cell_type": "code",
   "execution_count": 29,
   "id": "5905e4cd",
   "metadata": {
    "colab": {
     "base_uri": "https://localhost:8080/",
     "height": 1000
    },
    "executionInfo": {
     "elapsed": 12220,
     "status": "ok",
     "timestamp": 1653490014310,
     "user": {
      "displayName": "Francisco Ponce",
      "userId": "03873220340391419698"
     },
     "user_tz": 300
    },
    "id": "5905e4cd",
    "outputId": "5f5d0ccd-cb8e-40fc-d27a-0fc0edd98695"
   },
   "outputs": [
    {
     "name": "stdout",
     "output_type": "stream",
     "text": [
      "department   Analytics  Finance    HR  Legal  Operations  Procurement   R&D  \\\n",
      "is_promoted                                                                   \n",
      "0                  0.9     0.92  0.94   0.95        0.91          0.9  0.94   \n",
      "1                  0.1     0.08  0.06   0.05        0.09          0.1  0.06   \n",
      "\n",
      "department   Sales & Marketing  Technology  \n",
      "is_promoted                                 \n",
      "0                         0.93        0.89  \n",
      "1                         0.07        0.11  \n",
      "AxesSubplot(0.125,0.125;0.775x0.755)\n",
      "region       region_1  region_10  region_11  region_12  region_13  region_14  \\\n",
      "is_promoted                                                                    \n",
      "0                 0.9       0.92       0.94       0.94       0.91       0.93   \n",
      "1                 0.1       0.08       0.06       0.06       0.09       0.07   \n",
      "\n",
      "region       region_15  region_16  region_17  region_18  ...  region_31  \\\n",
      "is_promoted                                              ...              \n",
      "0                 0.92       0.93       0.87       0.96  ...       0.94   \n",
      "1                 0.08       0.07       0.13       0.04  ...       0.06   \n",
      "\n",
      "region       region_32  region_33  region_34  region_4  region_5  region_6  \\\n",
      "is_promoted                                                                  \n",
      "0                 0.95       0.96       0.97      0.85      0.96      0.96   \n",
      "1                 0.05       0.04       0.03      0.15      0.04      0.04   \n",
      "\n",
      "region       region_7  region_8  region_9  \n",
      "is_promoted                                \n",
      "0                0.89      0.91      0.98  \n",
      "1                0.11      0.09      0.02  \n",
      "\n",
      "[2 rows x 34 columns]\n",
      "AxesSubplot(0.125,0.125;0.775x0.755)\n",
      "education    Bachelor's  Below Secondary  Master's & above\n",
      "is_promoted                                               \n",
      "0                  0.92             0.92               0.9\n",
      "1                  0.08             0.08               0.1\n",
      "AxesSubplot(0.125,0.125;0.775x0.755)\n",
      "gender          f     m\n",
      "is_promoted            \n",
      "0            0.91  0.92\n",
      "1            0.09  0.08\n",
      "AxesSubplot(0.125,0.125;0.775x0.755)\n",
      "recruitment_channel  other  referred  sourcing\n",
      "is_promoted                                   \n",
      "0                     0.91      0.87      0.91\n",
      "1                     0.09      0.13      0.09\n",
      "AxesSubplot(0.125,0.125;0.775x0.755)\n",
      "no_of_trainings    1     2     3     4     5     6    7    8    9    10\n",
      "is_promoted                                                            \n",
      "0                0.91  0.92  0.93  0.94  0.97  0.97  1.0  1.0  1.0  1.0\n",
      "1                0.09  0.08  0.07  0.06  0.03  0.03  0.0  0.0  0.0  0.0\n",
      "AxesSubplot(0.125,0.125;0.775x0.755)\n",
      "age            20    21    22   23    24    25    26   27   28    29  ...  \\\n",
      "is_promoted                                                           ...   \n",
      "0            0.94  0.97  0.94  0.9  0.94  0.95  0.91  0.9  0.9  0.91  ...   \n",
      "1            0.06  0.03  0.06  0.1  0.06  0.05  0.09  0.1  0.1  0.09  ...   \n",
      "\n",
      "age            51    52    53    54    55    56    57    58    59    60  \n",
      "is_promoted                                                              \n",
      "0            0.91  0.92  0.96  0.92  0.94  0.92  0.98  0.92  0.92  0.94  \n",
      "1            0.09  0.08  0.04  0.08  0.06  0.08  0.02  0.08  0.08  0.06  \n",
      "\n",
      "[2 rows x 41 columns]\n",
      "AxesSubplot(0.125,0.125;0.775x0.755)\n",
      "previous_year_rating   1.0   2.0   3.0   4.0   5.0\n",
      "is_promoted                                       \n",
      "0                     0.99  0.96  0.93  0.92  0.83\n",
      "1                     0.01  0.04  0.07  0.08  0.17\n",
      "AxesSubplot(0.125,0.125;0.775x0.755)\n",
      "length_of_service   1     2     3     4     5     6     7    8     9     10  \\\n",
      "is_promoted                                                                   \n",
      "0                  0.9  0.91  0.91  0.91  0.92  0.91  0.92  0.9  0.91  0.91   \n",
      "1                  0.1  0.09  0.09  0.09  0.08  0.09  0.08  0.1  0.09  0.09   \n",
      "\n",
      "length_of_service  ...   26    27    28   29   30   31    32   33    34   37  \n",
      "is_promoted        ...                                                        \n",
      "0                  ...  1.0  0.97  0.93  0.9  1.0  1.0  0.78  1.0  0.75  1.0  \n",
      "1                  ...  0.0  0.03  0.07  0.1  0.0  0.0  0.22  0.0  0.25  0.0  \n",
      "\n",
      "[2 rows x 35 columns]\n",
      "AxesSubplot(0.125,0.125;0.775x0.755)\n",
      "kpis_met_80     0     1\n",
      "is_promoted            \n",
      "0            0.96  0.83\n",
      "1            0.04  0.17\n",
      "AxesSubplot(0.125,0.125;0.775x0.755)\n",
      "awards_won      0     1\n",
      "is_promoted            \n",
      "0            0.92  0.55\n",
      "1            0.08  0.45\n",
      "AxesSubplot(0.125,0.125;0.775x0.755)\n",
      "avg_training_score   39   40    41    42    43    44    45    46    47    48  \\\n",
      "is_promoted                                                                    \n",
      "0                   1.0  1.0  0.96  0.96  0.96  0.97  0.95  0.97  0.95  0.96   \n",
      "1                   0.0  0.0  0.04  0.04  0.04  0.03  0.05  0.03  0.05  0.04   \n",
      "\n",
      "avg_training_score  ...    90    91    92    93    94   95   96   97   98   99  \n",
      "is_promoted         ...                                                         \n",
      "0                   ...  0.56  0.34  0.16  0.09  0.04  0.0  0.0  0.0  0.0  0.0  \n",
      "1                   ...  0.44  0.66  0.84  0.91  0.96  1.0  1.0  1.0  1.0  1.0  \n",
      "\n",
      "[2 rows x 61 columns]\n",
      "AxesSubplot(0.125,0.125;0.775x0.755)\n",
      "is_promoted    0    1\n",
      "is_promoted          \n",
      "0            1.0  0.0\n",
      "1            0.0  1.0\n",
      "AxesSubplot(0.125,0.125;0.775x0.755)\n"
     ]
    },
    {
     "data": {
      "image/png": "[encoded data removed]",
      "text/plain": [
       "<Figure size 432x288 with 1 Axes>"
      ]
     },
     "metadata": {},
     "output_type": "display_data"
    },
    {
     "data": {
      "image/png": "[encoded data removed]",
      "text/plain": [
       "<Figure size 432x288 with 1 Axes>"
      ]
     },
     "metadata": {},
     "output_type": "display_data"
    },
    {
     "data": {
      "image/png": "[encoded data removed]",
      "text/plain": [
       "<Figure size 432x288 with 1 Axes>"
      ]
     },
     "metadata": {},
     "output_type": "display_data"
    },
    {
     "data": {
      "image/png": "[encoded data removed]",
      "text/plain": [
       "<Figure size 432x288 with 1 Axes>"
      ]
     },
     "metadata": {},
     "output_type": "display_data"
    },
    {
     "data": {
      "image/png": "[encoded data removed]",
      "text/plain": [
       "<Figure size 432x288 with 1 Axes>"
      ]
     },
     "metadata": {},
     "output_type": "display_data"
    },
    {
     "data": {
      "image/png": "[encoded data removed]",
      "text/plain": [
       "<Figure size 432x288 with 1 Axes>"
      ]
     },
     "metadata": {},
     "output_type": "display_data"
    },
    {
     "data": {
      "image/png": "[encoded data removed]",
      "text/plain": [
       "<Figure size 432x288 with 1 Axes>"
      ]
     },
     "metadata": {},
     "output_type": "display_data"
    },
    {
     "data": {
      "image/png": "[encoded data removed]",
      "text/plain": [
       "<Figure size 432x288 with 1 Axes>"
      ]
     },
     "metadata": {},
     "output_type": "display_data"
    },
    {
     "data": {
      "image/png": "[encoded data removed]",
      "text/plain": [
       "<Figure size 432x288 with 1 Axes>"
      ]
     },
     "metadata": {},
     "output_type": "display_data"
    },
    {
     "data": {
      "image/png": "[encoded data removed]",
      "text/plain": [
       "<Figure size 432x288 with 1 Axes>"
      ]
     },
     "metadata": {},
     "output_type": "display_data"
    },
    {
     "data": {
      "image/png": "[encoded data removed]",
      "text/plain": [
       "<Figure size 432x288 with 1 Axes>"
      ]
     },
     "metadata": {},
     "output_type": "display_data"
    },
    {
     "data": {
      "image/png": "[encoded data removed]",
      "text/plain": [
       "<Figure size 432x288 with 1 Axes>"
      ]
     },
     "metadata": {},
     "output_type": "display_data"
    },
    {
     "data": {
      "image/png": "[encoded data removed]",
      "text/plain": [
       "<Figure size 432x288 with 1 Axes>"
      ]
     },
     "metadata": {},
     "output_type": "display_data"
    }
   ],
   "source": [
    "for column in promotion_cleaned:\n",
    "    promo_by_group = pd.crosstab(index=promotion_cleaned['is_promoted'],columns = promotion_cleaned[column], normalize = 'columns')\n",
    "    promo_by_group = promo_by_group.apply(lambda x: round(x,2))\n",
    "    print(promo_by_group)\n",
    "    print(promo_by_group.plot.bar())\n"
   ]
  },
  {
   "cell_type": "code",
   "execution_count": 30,
   "id": "25030c78",
   "metadata": {
    "executionInfo": {
     "elapsed": 101,
     "status": "ok",
     "timestamp": 1653490014325,
     "user": {
      "displayName": "Francisco Ponce",
      "userId": "03873220340391419698"
     },
     "user_tz": 300
    },
    "id": "25030c78"
   },
   "outputs": [],
   "source": [
    "# age_log = np.log1p(promotion_cleaned['age'])\n",
    "# service_log = np.log1p(promotion_cleaned['length_of_service'])\n",
    "# score_log = np.log1p(promotion_cleaned['avg_training_score'])\n",
    "\n",
    "# promotion_cleaned.insert(6, 'age_log', age_log)\n",
    "# promotion_cleaned.insert(9, 'length_of_service_log', service_log)\n",
    "# promotion_cleaned.insert(12, 'avg_training_score_log', score_log)\n",
    "\n",
    "# promotion_cleaned.head()"
   ]
  },
  {
   "cell_type": "code",
   "execution_count": 31,
   "id": "03adcb07",
   "metadata": {
    "colab": {
     "base_uri": "https://localhost:8080/",
     "height": 1000
    },
    "executionInfo": {
     "elapsed": 9615,
     "status": "ok",
     "timestamp": 1653490023865,
     "user": {
      "displayName": "Francisco Ponce",
      "userId": "03873220340391419698"
     },
     "user_tz": 300
    },
    "id": "03adcb07",
    "outputId": "4299d6b2-2462-4d5d-adf4-23fb48887900"
   },
   "outputs": [
    {
     "name": "stdout",
     "output_type": "stream",
     "text": [
      "Sales & Marketing    14239\n",
      "Operations           10547\n",
      "Procurement           6641\n",
      "Technology            6502\n",
      "Analytics             4610\n",
      "Finance               2219\n",
      "HR                    2142\n",
      "R&D                    893\n",
      "Legal                  867\n",
      "Name: department, dtype: int64\n",
      "AxesSubplot(0.125,0.125;0.775x0.755)\n",
      "region_2     10811\n",
      "region_22     5435\n",
      "region_7      4397\n",
      "region_15     2512\n",
      "region_13     2463\n",
      "region_26     1966\n",
      "region_31     1692\n",
      "region_4      1626\n",
      "region_27     1418\n",
      "region_16     1319\n",
      "region_11     1189\n",
      "region_28     1143\n",
      "region_23     1104\n",
      "region_29      896\n",
      "region_19      838\n",
      "region_20      780\n",
      "region_32      773\n",
      "region_14      770\n",
      "region_17      742\n",
      "region_25      721\n",
      "region_5       690\n",
      "region_10      614\n",
      "region_30      602\n",
      "region_6       579\n",
      "region_8       578\n",
      "region_1       553\n",
      "region_24      462\n",
      "region_12      425\n",
      "region_21      370\n",
      "region_3       331\n",
      "region_9       324\n",
      "region_33      260\n",
      "region_34      253\n",
      "region_18       24\n",
      "Name: region, dtype: int64\n",
      "AxesSubplot(0.125,0.125;0.775x0.755)\n",
      "Bachelor's          33404\n",
      "Master's & above    14798\n",
      "Below Secondary       458\n",
      "Name: education, dtype: int64\n",
      "AxesSubplot(0.125,0.125;0.775x0.755)\n",
      "m    33852\n",
      "f    14808\n",
      "Name: gender, dtype: int64\n",
      "AxesSubplot(0.125,0.125;0.775x0.755)\n",
      "other       27017\n",
      "sourcing    20623\n",
      "referred     1020\n",
      "Name: recruitment_channel, dtype: int64\n",
      "AxesSubplot(0.125,0.125;0.775x0.755)\n"
     ]
    },
    {
     "data": {
      "image/png": "[encoded data removed]",
      "text/plain": [
       "<Figure size 720x360 with 1 Axes>"
      ]
     },
     "metadata": {},
     "output_type": "display_data"
    },
    {
     "data": {
      "image/png": "[encoded data removed]",
      "text/plain": [
       "<Figure size 720x360 with 1 Axes>"
      ]
     },
     "metadata": {},
     "output_type": "display_data"
    },
    {
     "data": {
      "image/png": "[encoded data removed]",
      "text/plain": [
       "<Figure size 720x360 with 1 Axes>"
      ]
     },
     "metadata": {},
     "output_type": "display_data"
    },
    {
     "data": {
      "image/png": "[encoded data removed]",
      "text/plain": [
       "<Figure size 720x360 with 1 Axes>"
      ]
     },
     "metadata": {},
     "output_type": "display_data"
    },
    {
     "data": {
      "image/png": "[encoded data removed]",
      "text/plain": [
       "<Figure size 720x360 with 1 Axes>"
      ]
     },
     "metadata": {},
     "output_type": "display_data"
    }
   ],
   "source": [
    "for column in prom_categorical:\n",
    "    plt.figure(figsize = (10, 5))\n",
    "    print(prom_categorical[column].value_counts())\n",
    "    plot = sns.countplot(x = column, data = promotion_cleaned, palette='rocket_r')\n",
    "    print(plot)\n",
    "    sns.color_palette(\"magma\", as_cmap=True)\n",
    "    plt.xticks(rotation = 90)\n",
    "    for p in plot.patches:\n",
    "         plot.annotate(p.get_height(), \n",
    "                            (p.get_x() + p.get_width() / 2.0, \n",
    "                             p.get_height()), \n",
    "                            ha = 'center', \n",
    "                            va = 'center', \n",
    "                            xytext = (0, 5),\n",
    "                            textcoords = 'offset points')"
   ]
  },
  {
   "cell_type": "code",
   "execution_count": 32,
   "id": "1205b14e",
   "metadata": {},
   "outputs": [
    {
     "data": {
      "text/plain": [
       "m    38496\n",
       "f    16312\n",
       "Name: gender, dtype: int64"
      ]
     },
     "execution_count": 32,
     "metadata": {},
     "output_type": "execute_result"
    }
   ],
   "source": [
    "promotion['gender'].value_counts()"
   ]
  },
  {
   "cell_type": "code",
   "execution_count": 33,
   "id": "23e548ef",
   "metadata": {},
   "outputs": [
    {
     "data": {
      "text/plain": [
       "Sales & Marketing    16840\n",
       "Operations           11348\n",
       "Technology            7138\n",
       "Procurement           7138\n",
       "Analytics             5352\n",
       "Finance               2536\n",
       "HR                    2418\n",
       "Legal                 1039\n",
       "R&D                    999\n",
       "Name: department, dtype: int64"
      ]
     },
     "execution_count": 33,
     "metadata": {},
     "output_type": "execute_result"
    }
   ],
   "source": [
    "promotion['department'].value_counts()"
   ]
  },
  {
   "cell_type": "code",
   "execution_count": 34,
   "id": "ceeef44a",
   "metadata": {},
   "outputs": [
    {
     "data": {
      "text/plain": [
       "0    33572\n",
       "1     3118\n",
       "Name: is_promoted, dtype: int64"
      ]
     },
     "execution_count": 34,
     "metadata": {},
     "output_type": "execute_result"
    }
   ],
   "source": [
    "promotion[promotion['age']>30]['is_promoted'].value_counts()"
   ]
  },
  {
   "cell_type": "code",
   "execution_count": 35,
   "id": "d03e23b5",
   "metadata": {},
   "outputs": [
    {
     "data": {
      "text/plain": [
       "0    13227\n",
       "1     1226\n",
       "Name: is_promoted, dtype: int64"
      ]
     },
     "execution_count": 35,
     "metadata": {},
     "output_type": "execute_result"
    }
   ],
   "source": [
    "promotion[promotion['age']<30]['is_promoted'].value_counts()"
   ]
  },
  {
   "cell_type": "code",
   "execution_count": 36,
   "id": "897a1f26",
   "metadata": {},
   "outputs": [
    {
     "name": "stdout",
     "output_type": "stream",
     "text": [
      "<class 'pandas.core.frame.DataFrame'>\n",
      "Int64Index: 48660 entries, 0 to 54807\n",
      "Data columns (total 13 columns):\n",
      " #   Column                Non-Null Count  Dtype  \n",
      "---  ------                --------------  -----  \n",
      " 0   department            48660 non-null  object \n",
      " 1   region                48660 non-null  object \n",
      " 2   education             48660 non-null  object \n",
      " 3   gender                48660 non-null  object \n",
      " 4   recruitment_channel   48660 non-null  object \n",
      " 5   no_of_trainings       48660 non-null  int64  \n",
      " 6   age                   48660 non-null  int64  \n",
      " 7   previous_year_rating  48660 non-null  float64\n",
      " 8   length_of_service     48660 non-null  int64  \n",
      " 9   kpis_met_80           48660 non-null  int64  \n",
      " 10  awards_won            48660 non-null  int64  \n",
      " 11  avg_training_score    48660 non-null  int64  \n",
      " 12  is_promoted           48660 non-null  int64  \n",
      "dtypes: float64(1), int64(7), object(5)\n",
      "memory usage: 5.2+ MB\n"
     ]
    }
   ],
   "source": [
    "promotion_cleaned.info()"
   ]
  },
  {
   "cell_type": "code",
   "execution_count": 37,
   "id": "c3cb556d",
   "metadata": {},
   "outputs": [],
   "source": [
    "total = 1363 + 2869"
   ]
  },
  {
   "cell_type": "code",
   "execution_count": 38,
   "id": "6f18c89e",
   "metadata": {},
   "outputs": [
    {
     "data": {
      "text/plain": [
       "(0.32206994328922495, 0.677930056710775)"
      ]
     },
     "execution_count": 38,
     "metadata": {},
     "output_type": "execute_result"
    }
   ],
   "source": [
    "1363 / total, 2869/total"
   ]
  },
  {
   "cell_type": "code",
   "execution_count": 39,
   "id": "86d8ac14",
   "metadata": {},
   "outputs": [
    {
     "data": {
      "text/html": [
       "<div>\n",
       "<style scoped>\n",
       "    .dataframe tbody tr th:only-of-type {\n",
       "        vertical-align: middle;\n",
       "    }\n",
       "\n",
       "    .dataframe tbody tr th {\n",
       "        vertical-align: top;\n",
       "    }\n",
       "\n",
       "    .dataframe thead th {\n",
       "        text-align: right;\n",
       "    }\n",
       "</style>\n",
       "<table border=\"1\" class=\"dataframe\">\n",
       "  <thead>\n",
       "    <tr style=\"text-align: right;\">\n",
       "      <th>recruitment_channel</th>\n",
       "      <th>other</th>\n",
       "      <th>referred</th>\n",
       "      <th>sourcing</th>\n",
       "    </tr>\n",
       "    <tr>\n",
       "      <th>is_promoted</th>\n",
       "      <th></th>\n",
       "      <th></th>\n",
       "      <th></th>\n",
       "    </tr>\n",
       "  </thead>\n",
       "  <tbody>\n",
       "    <tr>\n",
       "      <th>0</th>\n",
       "      <td>24714</td>\n",
       "      <td>890</td>\n",
       "      <td>18824</td>\n",
       "    </tr>\n",
       "    <tr>\n",
       "      <th>1</th>\n",
       "      <td>2303</td>\n",
       "      <td>130</td>\n",
       "      <td>1799</td>\n",
       "    </tr>\n",
       "  </tbody>\n",
       "</table>\n",
       "</div>"
      ],
      "text/plain": [
       "recruitment_channel  other  referred  sourcing\n",
       "is_promoted                                   \n",
       "0                    24714       890     18824\n",
       "1                     2303       130      1799"
      ]
     },
     "execution_count": 39,
     "metadata": {},
     "output_type": "execute_result"
    }
   ],
   "source": [
    " pd.crosstab(index=promotion_cleaned['is_promoted'],columns = promotion_cleaned['recruitment_channel'])\n",
    "    \n",
    "# 2303/total"
   ]
  },
  {
   "cell_type": "code",
   "execution_count": 40,
   "id": "fa4358a9",
   "metadata": {},
   "outputs": [
    {
     "data": {
      "text/html": [
       "<div>\n",
       "<style scoped>\n",
       "    .dataframe tbody tr th:only-of-type {\n",
       "        vertical-align: middle;\n",
       "    }\n",
       "\n",
       "    .dataframe tbody tr th {\n",
       "        vertical-align: top;\n",
       "    }\n",
       "\n",
       "    .dataframe thead th {\n",
       "        text-align: right;\n",
       "    }\n",
       "</style>\n",
       "<table border=\"1\" class=\"dataframe\">\n",
       "  <thead>\n",
       "    <tr style=\"text-align: right;\">\n",
       "      <th>length_of_service</th>\n",
       "      <th>1</th>\n",
       "      <th>2</th>\n",
       "      <th>3</th>\n",
       "      <th>4</th>\n",
       "      <th>5</th>\n",
       "      <th>6</th>\n",
       "      <th>7</th>\n",
       "      <th>8</th>\n",
       "      <th>9</th>\n",
       "      <th>10</th>\n",
       "      <th>...</th>\n",
       "      <th>26</th>\n",
       "      <th>27</th>\n",
       "      <th>28</th>\n",
       "      <th>29</th>\n",
       "      <th>30</th>\n",
       "      <th>31</th>\n",
       "      <th>32</th>\n",
       "      <th>33</th>\n",
       "      <th>34</th>\n",
       "      <th>37</th>\n",
       "    </tr>\n",
       "    <tr>\n",
       "      <th>is_promoted</th>\n",
       "      <th></th>\n",
       "      <th></th>\n",
       "      <th></th>\n",
       "      <th></th>\n",
       "      <th></th>\n",
       "      <th></th>\n",
       "      <th></th>\n",
       "      <th></th>\n",
       "      <th></th>\n",
       "      <th></th>\n",
       "      <th></th>\n",
       "      <th></th>\n",
       "      <th></th>\n",
       "      <th></th>\n",
       "      <th></th>\n",
       "      <th></th>\n",
       "      <th></th>\n",
       "      <th></th>\n",
       "      <th></th>\n",
       "      <th></th>\n",
       "      <th></th>\n",
       "    </tr>\n",
       "  </thead>\n",
       "  <tbody>\n",
       "    <tr>\n",
       "      <th>0</th>\n",
       "      <td>343</td>\n",
       "      <td>5620</td>\n",
       "      <td>6087</td>\n",
       "      <td>6000</td>\n",
       "      <td>5154</td>\n",
       "      <td>4188</td>\n",
       "      <td>4928</td>\n",
       "      <td>2537</td>\n",
       "      <td>2327</td>\n",
       "      <td>1941</td>\n",
       "      <td>...</td>\n",
       "      <td>41</td>\n",
       "      <td>35</td>\n",
       "      <td>27</td>\n",
       "      <td>27</td>\n",
       "      <td>12</td>\n",
       "      <td>19</td>\n",
       "      <td>7</td>\n",
       "      <td>9</td>\n",
       "      <td>3</td>\n",
       "      <td>1</td>\n",
       "    </tr>\n",
       "    <tr>\n",
       "      <th>1</th>\n",
       "      <td>37</td>\n",
       "      <td>565</td>\n",
       "      <td>593</td>\n",
       "      <td>585</td>\n",
       "      <td>468</td>\n",
       "      <td>394</td>\n",
       "      <td>457</td>\n",
       "      <td>267</td>\n",
       "      <td>228</td>\n",
       "      <td>199</td>\n",
       "      <td>...</td>\n",
       "      <td>0</td>\n",
       "      <td>1</td>\n",
       "      <td>2</td>\n",
       "      <td>3</td>\n",
       "      <td>0</td>\n",
       "      <td>0</td>\n",
       "      <td>2</td>\n",
       "      <td>0</td>\n",
       "      <td>1</td>\n",
       "      <td>0</td>\n",
       "    </tr>\n",
       "  </tbody>\n",
       "</table>\n",
       "<p>2 rows × 35 columns</p>\n",
       "</div>"
      ],
      "text/plain": [
       "length_of_service   1     2     3     4     5     6     7     8     9     10  \\\n",
       "is_promoted                                                                    \n",
       "0                  343  5620  6087  6000  5154  4188  4928  2537  2327  1941   \n",
       "1                   37   565   593   585   468   394   457   267   228   199   \n",
       "\n",
       "length_of_service  ...  26  27  28  29  30  31  32  33  34  37  \n",
       "is_promoted        ...                                          \n",
       "0                  ...  41  35  27  27  12  19   7   9   3   1  \n",
       "1                  ...   0   1   2   3   0   0   2   0   1   0  \n",
       "\n",
       "[2 rows x 35 columns]"
      ]
     },
     "execution_count": 40,
     "metadata": {},
     "output_type": "execute_result"
    }
   ],
   "source": [
    "sourced =  pd.crosstab(index=promotion_cleaned['is_promoted'],columns = promotion_cleaned['length_of_service'])\n",
    "sourced"
   ]
  },
  {
   "cell_type": "code",
   "execution_count": 41,
   "id": "0844304c",
   "metadata": {},
   "outputs": [
    {
     "name": "stdout",
     "output_type": "stream",
     "text": [
      "0.7745746691871456\n"
     ]
    },
    {
     "data": {
      "text/html": [
       "<div>\n",
       "<style scoped>\n",
       "    .dataframe tbody tr th:only-of-type {\n",
       "        vertical-align: middle;\n",
       "    }\n",
       "\n",
       "    .dataframe tbody tr th {\n",
       "        vertical-align: top;\n",
       "    }\n",
       "\n",
       "    .dataframe thead th {\n",
       "        text-align: right;\n",
       "    }\n",
       "</style>\n",
       "<table border=\"1\" class=\"dataframe\">\n",
       "  <thead>\n",
       "    <tr style=\"text-align: right;\">\n",
       "      <th>awards_won</th>\n",
       "      <th>0</th>\n",
       "      <th>1</th>\n",
       "    </tr>\n",
       "    <tr>\n",
       "      <th>is_promoted</th>\n",
       "      <th></th>\n",
       "      <th></th>\n",
       "    </tr>\n",
       "  </thead>\n",
       "  <tbody>\n",
       "    <tr>\n",
       "      <th>0</th>\n",
       "      <td>43806</td>\n",
       "      <td>622</td>\n",
       "    </tr>\n",
       "    <tr>\n",
       "      <th>1</th>\n",
       "      <td>3728</td>\n",
       "      <td>504</td>\n",
       "    </tr>\n",
       "  </tbody>\n",
       "</table>\n",
       "</div>"
      ],
      "text/plain": [
       "awards_won       0    1\n",
       "is_promoted            \n",
       "0            43806  622\n",
       "1             3728  504"
      ]
     },
     "execution_count": 41,
     "metadata": {},
     "output_type": "execute_result"
    }
   ],
   "source": [
    "rating = pd.crosstab(index=promotion_cleaned['is_promoted'],columns = promotion_cleaned['awards_won'])\n",
    "print((3278)/total)\n",
    "rating"
   ]
  },
  {
   "cell_type": "code",
   "execution_count": 42,
   "id": "cc50e45e",
   "metadata": {},
   "outputs": [
    {
     "data": {
      "text/plain": [
       "(0.32206994328922495, 0.677930056710775)"
      ]
     },
     "execution_count": 42,
     "metadata": {},
     "output_type": "execute_result"
    }
   ],
   "source": [
    "1363 / total, 2869/total"
   ]
  },
  {
   "cell_type": "code",
   "execution_count": 43,
   "id": "4fdd2240",
   "metadata": {},
   "outputs": [
    {
     "data": {
      "text/plain": [
       "<AxesSubplot:xlabel='age'>"
      ]
     },
     "execution_count": 43,
     "metadata": {},
     "output_type": "execute_result"
    },
    {
     "data": {
      "image/png": "[encoded data removed]",
      "text/plain": [
       "<Figure size 640x480 with 1 Axes>"
      ]
     },
     "metadata": {},
     "output_type": "display_data"
    }
   ],
   "source": [
    "ages =  pd.crosstab(index=promotion_cleaned['is_promoted'],columns = promotion_cleaned['age'])\n",
    "\n",
    "plt.figure(figsize=(8, 6), dpi=80)\n",
    "ages.iloc[1].plot(kind='bar')"
   ]
  },
  {
   "cell_type": "code",
   "execution_count": 44,
   "id": "92d65015",
   "metadata": {},
   "outputs": [
    {
     "data": {
      "text/plain": [
       "0.32206994328922495"
      ]
     },
     "execution_count": 44,
     "metadata": {},
     "output_type": "execute_result"
    }
   ],
   "source": [
    "1363/(2869+1363)"
   ]
  },
  {
   "cell_type": "code",
   "execution_count": 45,
   "id": "c02089b0",
   "metadata": {
    "colab": {
     "base_uri": "https://localhost:8080/",
     "height": 326
    },
    "executionInfo": {
     "elapsed": 916,
     "status": "ok",
     "timestamp": 1653490023866,
     "user": {
      "displayName": "Francisco Ponce",
      "userId": "03873220340391419698"
     },
     "user_tz": 300
    },
    "id": "c02089b0",
    "outputId": "90108b37-c15a-4b23-e691-ef1f2f47cb1e"
   },
   "outputs": [
    {
     "data": {
      "text/plain": [
       "<AxesSubplot:xlabel='gender,is_promoted'>"
      ]
     },
     "execution_count": 45,
     "metadata": {},
     "output_type": "execute_result"
    },
    {
     "data": {
      "image/png": "[encoded data removed]",
      "text/plain": [
       "<Figure size 432x288 with 1 Axes>"
      ]
     },
     "metadata": {},
     "output_type": "display_data"
    }
   ],
   "source": [
    "promotion_cleaned.groupby(['gender', 'is_promoted'])['is_promoted'].count().plot(kind='bar')"
   ]
  },
  {
   "cell_type": "code",
   "execution_count": 46,
   "id": "f85a399b",
   "metadata": {},
   "outputs": [
    {
     "data": {
      "text/plain": [
       "(0.008506616257088847, 0.6457939508506616, 0.3456994328922495)"
      ]
     },
     "execution_count": 46,
     "metadata": {},
     "output_type": "execute_result"
    }
   ],
   "source": [
    "education =  pd.crosstab(index=promotion_cleaned['is_promoted'],columns = promotion_cleaned['education'])\n",
    "education\n",
    "# plt.figure(figsize=(8, 6), dpi=80)\n",
    "# ages.iloc[1].plot(kind='bar')\n",
    "36/total, 2733/total, 1463/total"
   ]
  },
  {
   "cell_type": "code",
   "execution_count": 47,
   "id": "a542808c",
   "metadata": {},
   "outputs": [
    {
     "name": "stdout",
     "output_type": "stream",
     "text": [
      "AxesSubplot(0.125,0.125;0.775x0.755)\n",
      "department\n",
      "Analytics             445\n",
      "Finance               182\n",
      "HR                    121\n",
      "Legal                  42\n",
      "Operations            979\n",
      "Procurement           651\n",
      "R&D                    58\n",
      "Sales & Marketing    1060\n",
      "Technology            694\n",
      "Name: 1, dtype: int64\n",
      "0.2504725897920605 0.23133270321361057 0.16398865784499056\n"
     ]
    },
    {
     "data": {
      "image/png": "[encoded data removed]",
      "text/plain": [
       "<Figure size 432x288 with 1 Axes>"
      ]
     },
     "metadata": {},
     "output_type": "display_data"
    }
   ],
   "source": [
    "department =  pd.crosstab(index=promotion_cleaned['is_promoted'],columns = promotion_cleaned['department'])\n",
    "# print(labels_ordered_by_mean_dict)\n",
    "print(department.iloc[1].plot(kind='bar'))\n",
    "print(department.iloc[1])\n",
    "print(1060/total, 979/total, 694/total)"
   ]
  },
  {
   "cell_type": "code",
   "execution_count": 48,
   "id": "4b641f4d",
   "metadata": {},
   "outputs": [
    {
     "name": "stdout",
     "output_type": "stream",
     "text": [
      "AxesSubplot(0.125,0.125;0.775x0.755)\n",
      "awards_won\n",
      "0    3728\n",
      "1     504\n",
      "Name: 1, dtype: int64\n",
      "0.30222117202268434 0.6977788279773157\n"
     ]
    },
    {
     "data": {
      "image/png": "[encoded data removed]",
      "text/plain": [
       "<Figure size 432x288 with 1 Axes>"
      ]
     },
     "metadata": {},
     "output_type": "display_data"
    }
   ],
   "source": [
    "kpi =  pd.crosstab(index=promotion_cleaned['is_promoted'],columns = promotion_cleaned['awards_won'])\n",
    "print(kpi.iloc[1].plot(kind='bar'))\n",
    "print(kpi.iloc[1])\n",
    "print(1279/total, 2953/total)\n",
    "\n"
   ]
  },
  {
   "cell_type": "code",
   "execution_count": 49,
   "id": "da0eabc8",
   "metadata": {},
   "outputs": [
    {
     "name": "stdout",
     "output_type": "stream",
     "text": [
      "<class 'pandas.core.frame.DataFrame'>\n",
      "Int64Index: 48660 entries, 0 to 54807\n",
      "Data columns (total 13 columns):\n",
      " #   Column                Non-Null Count  Dtype  \n",
      "---  ------                --------------  -----  \n",
      " 0   department            48660 non-null  object \n",
      " 1   region                48660 non-null  object \n",
      " 2   education             48660 non-null  object \n",
      " 3   gender                48660 non-null  object \n",
      " 4   recruitment_channel   48660 non-null  object \n",
      " 5   no_of_trainings       48660 non-null  int64  \n",
      " 6   age                   48660 non-null  int64  \n",
      " 7   previous_year_rating  48660 non-null  float64\n",
      " 8   length_of_service     48660 non-null  int64  \n",
      " 9   kpis_met_80           48660 non-null  int64  \n",
      " 10  awards_won            48660 non-null  int64  \n",
      " 11  avg_training_score    48660 non-null  int64  \n",
      " 12  is_promoted           48660 non-null  int64  \n",
      "dtypes: float64(1), int64(7), object(5)\n",
      "memory usage: 5.2+ MB\n"
     ]
    }
   ],
   "source": [
    "promotion_cleaned.info()"
   ]
  },
  {
   "cell_type": "code",
   "execution_count": 50,
   "id": "391de159",
   "metadata": {},
   "outputs": [
    {
     "data": {
      "text/html": [
       "<div>\n",
       "<style scoped>\n",
       "    .dataframe tbody tr th:only-of-type {\n",
       "        vertical-align: middle;\n",
       "    }\n",
       "\n",
       "    .dataframe tbody tr th {\n",
       "        vertical-align: top;\n",
       "    }\n",
       "\n",
       "    .dataframe thead th {\n",
       "        text-align: right;\n",
       "    }\n",
       "</style>\n",
       "<table border=\"1\" class=\"dataframe\">\n",
       "  <thead>\n",
       "    <tr style=\"text-align: right;\">\n",
       "      <th></th>\n",
       "      <th>no_of_trainings</th>\n",
       "      <th>age</th>\n",
       "      <th>previous_year_rating</th>\n",
       "      <th>length_of_service</th>\n",
       "      <th>kpis_met_80</th>\n",
       "      <th>awards_won</th>\n",
       "      <th>avg_training_score</th>\n",
       "      <th>is_promoted</th>\n",
       "    </tr>\n",
       "  </thead>\n",
       "  <tbody>\n",
       "    <tr>\n",
       "      <th>count</th>\n",
       "      <td>4232.000000</td>\n",
       "      <td>4232.000000</td>\n",
       "      <td>4232.000000</td>\n",
       "      <td>4232.000000</td>\n",
       "      <td>4232.000000</td>\n",
       "      <td>4232.000000</td>\n",
       "      <td>4232.000000</td>\n",
       "      <td>4232.0</td>\n",
       "    </tr>\n",
       "    <tr>\n",
       "      <th>mean</th>\n",
       "      <td>1.202977</td>\n",
       "      <td>35.042297</td>\n",
       "      <td>3.984405</td>\n",
       "      <td>6.117202</td>\n",
       "      <td>0.697779</td>\n",
       "      <td>0.119093</td>\n",
       "      <td>71.322779</td>\n",
       "      <td>1.0</td>\n",
       "    </tr>\n",
       "    <tr>\n",
       "      <th>std</th>\n",
       "      <td>0.510037</td>\n",
       "      <td>6.979245</td>\n",
       "      <td>1.052731</td>\n",
       "      <td>3.940465</td>\n",
       "      <td>0.459275</td>\n",
       "      <td>0.323936</td>\n",
       "      <td>14.641829</td>\n",
       "      <td>0.0</td>\n",
       "    </tr>\n",
       "    <tr>\n",
       "      <th>min</th>\n",
       "      <td>1.000000</td>\n",
       "      <td>20.000000</td>\n",
       "      <td>1.000000</td>\n",
       "      <td>1.000000</td>\n",
       "      <td>0.000000</td>\n",
       "      <td>0.000000</td>\n",
       "      <td>41.000000</td>\n",
       "      <td>1.0</td>\n",
       "    </tr>\n",
       "    <tr>\n",
       "      <th>25%</th>\n",
       "      <td>1.000000</td>\n",
       "      <td>30.000000</td>\n",
       "      <td>3.000000</td>\n",
       "      <td>3.000000</td>\n",
       "      <td>0.000000</td>\n",
       "      <td>0.000000</td>\n",
       "      <td>59.000000</td>\n",
       "      <td>1.0</td>\n",
       "    </tr>\n",
       "    <tr>\n",
       "      <th>50%</th>\n",
       "      <td>1.000000</td>\n",
       "      <td>34.000000</td>\n",
       "      <td>4.000000</td>\n",
       "      <td>5.000000</td>\n",
       "      <td>1.000000</td>\n",
       "      <td>0.000000</td>\n",
       "      <td>71.000000</td>\n",
       "      <td>1.0</td>\n",
       "    </tr>\n",
       "    <tr>\n",
       "      <th>75%</th>\n",
       "      <td>1.000000</td>\n",
       "      <td>38.000000</td>\n",
       "      <td>5.000000</td>\n",
       "      <td>8.000000</td>\n",
       "      <td>1.000000</td>\n",
       "      <td>0.000000</td>\n",
       "      <td>83.000000</td>\n",
       "      <td>1.0</td>\n",
       "    </tr>\n",
       "    <tr>\n",
       "      <th>max</th>\n",
       "      <td>6.000000</td>\n",
       "      <td>60.000000</td>\n",
       "      <td>5.000000</td>\n",
       "      <td>34.000000</td>\n",
       "      <td>1.000000</td>\n",
       "      <td>1.000000</td>\n",
       "      <td>99.000000</td>\n",
       "      <td>1.0</td>\n",
       "    </tr>\n",
       "  </tbody>\n",
       "</table>\n",
       "</div>"
      ],
      "text/plain": [
       "       no_of_trainings          age  previous_year_rating  length_of_service  \\\n",
       "count      4232.000000  4232.000000           4232.000000        4232.000000   \n",
       "mean          1.202977    35.042297              3.984405           6.117202   \n",
       "std           0.510037     6.979245              1.052731           3.940465   \n",
       "min           1.000000    20.000000              1.000000           1.000000   \n",
       "25%           1.000000    30.000000              3.000000           3.000000   \n",
       "50%           1.000000    34.000000              4.000000           5.000000   \n",
       "75%           1.000000    38.000000              5.000000           8.000000   \n",
       "max           6.000000    60.000000              5.000000          34.000000   \n",
       "\n",
       "       kpis_met_80   awards_won  avg_training_score  is_promoted  \n",
       "count  4232.000000  4232.000000         4232.000000       4232.0  \n",
       "mean      0.697779     0.119093           71.322779          1.0  \n",
       "std       0.459275     0.323936           14.641829          0.0  \n",
       "min       0.000000     0.000000           41.000000          1.0  \n",
       "25%       0.000000     0.000000           59.000000          1.0  \n",
       "50%       1.000000     0.000000           71.000000          1.0  \n",
       "75%       1.000000     0.000000           83.000000          1.0  \n",
       "max       1.000000     1.000000           99.000000          1.0  "
      ]
     },
     "execution_count": 50,
     "metadata": {},
     "output_type": "execute_result"
    }
   ],
   "source": [
    "promotion_cleaned[promotion_cleaned['is_promoted'] == 1].describe()"
   ]
  },
  {
   "cell_type": "code",
   "execution_count": 51,
   "id": "579c0a6c",
   "metadata": {},
   "outputs": [
    {
     "data": {
      "text/plain": [
       "2248"
      ]
     },
     "execution_count": 51,
     "metadata": {},
     "output_type": "execute_result"
    }
   ],
   "source": [
    "lenght_of_service =  pd.crosstab(index=promotion_cleaned['is_promoted'],columns = promotion_cleaned['length_of_service']).T\n",
    "lenght_of_service[0:5][1].sum()\n",
    "# print(1279/total, 2953/total)\n",
    "\n"
   ]
  },
  {
   "cell_type": "code",
   "execution_count": 52,
   "id": "7a27dd28",
   "metadata": {
    "colab": {
     "base_uri": "https://localhost:8080/",
     "height": 322
    },
    "executionInfo": {
     "elapsed": 883,
     "status": "ok",
     "timestamp": 1653490023866,
     "user": {
      "displayName": "Francisco Ponce",
      "userId": "03873220340391419698"
     },
     "user_tz": 300
    },
    "id": "7a27dd28",
    "outputId": "5676681a-5aba-4c17-9393-c99c854adae1"
   },
   "outputs": [
    {
     "data": {
      "text/plain": [
       "<AxesSubplot:xlabel='awards_won,is_promoted'>"
      ]
     },
     "execution_count": 52,
     "metadata": {},
     "output_type": "execute_result"
    },
    {
     "data": {
      "image/png": "[encoded data removed]",
      "text/plain": [
       "<Figure size 432x288 with 1 Axes>"
      ]
     },
     "metadata": {},
     "output_type": "display_data"
    }
   ],
   "source": [
    "promotion_cleaned.groupby(['awards_won', 'is_promoted'])['awards_won'].count().plot(kind='bar')"
   ]
  },
  {
   "cell_type": "code",
   "execution_count": 53,
   "id": "cb33b646",
   "metadata": {
    "colab": {
     "base_uri": "https://localhost:8080/"
    },
    "executionInfo": {
     "elapsed": 869,
     "status": "ok",
     "timestamp": 1653490023866,
     "user": {
      "displayName": "Francisco Ponce",
      "userId": "03873220340391419698"
     },
     "user_tz": 300
    },
    "id": "cb33b646",
    "outputId": "f73174e3-5bc5-4363-acb3-cd47f36ad7d3"
   },
   "outputs": [
    {
     "data": {
      "text/plain": [
       "kpis_met_80\n",
       "0    31314\n",
       "1    17346\n",
       "Name: kpis_met_80, dtype: int64"
      ]
     },
     "execution_count": 53,
     "metadata": {},
     "output_type": "execute_result"
    }
   ],
   "source": [
    "promotion_cleaned.groupby('kpis_met_80')['kpis_met_80'].count()"
   ]
  },
  {
   "cell_type": "code",
   "execution_count": 54,
   "id": "e2066405",
   "metadata": {
    "colab": {
     "base_uri": "https://localhost:8080/"
    },
    "executionInfo": {
     "elapsed": 863,
     "status": "ok",
     "timestamp": 1653490023866,
     "user": {
      "displayName": "Francisco Ponce",
      "userId": "03873220340391419698"
     },
     "user_tz": 300
    },
    "id": "e2066405",
    "outputId": "5a092f48-dca3-49b8-95bf-fbfdc41aa315"
   },
   "outputs": [
    {
     "name": "stdout",
     "output_type": "stream",
     "text": [
      "<class 'pandas.core.frame.DataFrame'>\n",
      "Int64Index: 48660 entries, 0 to 54807\n",
      "Data columns (total 13 columns):\n",
      " #   Column                Non-Null Count  Dtype  \n",
      "---  ------                --------------  -----  \n",
      " 0   department            48660 non-null  object \n",
      " 1   region                48660 non-null  object \n",
      " 2   education             48660 non-null  object \n",
      " 3   gender                48660 non-null  object \n",
      " 4   recruitment_channel   48660 non-null  object \n",
      " 5   no_of_trainings       48660 non-null  int64  \n",
      " 6   age                   48660 non-null  int64  \n",
      " 7   previous_year_rating  48660 non-null  float64\n",
      " 8   length_of_service     48660 non-null  int64  \n",
      " 9   kpis_met_80           48660 non-null  int64  \n",
      " 10  awards_won            48660 non-null  int64  \n",
      " 11  avg_training_score    48660 non-null  int64  \n",
      " 12  is_promoted           48660 non-null  int64  \n",
      "dtypes: float64(1), int64(7), object(5)\n",
      "memory usage: 5.2+ MB\n"
     ]
    }
   ],
   "source": [
    "promotion_cleaned.info()"
   ]
  },
  {
   "cell_type": "code",
   "execution_count": 55,
   "id": "816e6059",
   "metadata": {
    "colab": {
     "base_uri": "https://localhost:8080/"
    },
    "executionInfo": {
     "elapsed": 849,
     "status": "ok",
     "timestamp": 1653490023866,
     "user": {
      "displayName": "Francisco Ponce",
      "userId": "03873220340391419698"
     },
     "user_tz": 300
    },
    "id": "816e6059",
    "outputId": "b312da27-cc13-48df-dfd5-dcad04887a18",
    "scrolled": true
   },
   "outputs": [
    {
     "data": {
      "text/plain": [
       "34"
      ]
     },
     "execution_count": 55,
     "metadata": {},
     "output_type": "execute_result"
    }
   ],
   "source": [
    "len(promotion_cleaned['region'].unique())"
   ]
  },
  {
   "cell_type": "code",
   "execution_count": 56,
   "id": "ff428865",
   "metadata": {},
   "outputs": [
    {
     "data": {
      "text/plain": [
       "0.7023792147131805"
      ]
     },
     "execution_count": 56,
     "metadata": {},
     "output_type": "execute_result"
    }
   ],
   "source": [
    "38496 / len(promotion)"
   ]
  },
  {
   "cell_type": "code",
   "execution_count": null,
   "id": "8d88ae65",
   "metadata": {},
   "outputs": [],
   "source": []
  },
  {
   "cell_type": "code",
   "execution_count": 57,
   "id": "33e10b3e",
   "metadata": {
    "colab": {
     "base_uri": "https://localhost:8080/",
     "height": 931
    },
    "executionInfo": {
     "elapsed": 844,
     "status": "ok",
     "timestamp": 1653490023867,
     "user": {
      "displayName": "Francisco Ponce",
      "userId": "03873220340391419698"
     },
     "user_tz": 300
    },
    "id": "33e10b3e",
    "outputId": "a2713bd0-d495-4b01-cb29-a07db3589653"
   },
   "outputs": [
    {
     "data": {
      "text/html": [
       "<div>\n",
       "<style scoped>\n",
       "    .dataframe tbody tr th:only-of-type {\n",
       "        vertical-align: middle;\n",
       "    }\n",
       "\n",
       "    .dataframe tbody tr th {\n",
       "        vertical-align: top;\n",
       "    }\n",
       "\n",
       "    .dataframe thead th {\n",
       "        text-align: right;\n",
       "    }\n",
       "</style>\n",
       "<table border=\"1\" class=\"dataframe\">\n",
       "  <thead>\n",
       "    <tr style=\"text-align: right;\">\n",
       "      <th></th>\n",
       "      <th>department</th>\n",
       "      <th>region</th>\n",
       "      <th>education</th>\n",
       "      <th>gender</th>\n",
       "      <th>recruitment_channel</th>\n",
       "      <th>no_of_trainings</th>\n",
       "      <th>age</th>\n",
       "      <th>previous_year_rating</th>\n",
       "      <th>length_of_service</th>\n",
       "      <th>kpis_met_80</th>\n",
       "      <th>awards_won</th>\n",
       "      <th>avg_training_score</th>\n",
       "      <th>is_promoted</th>\n",
       "    </tr>\n",
       "  </thead>\n",
       "  <tbody>\n",
       "    <tr>\n",
       "      <th>0</th>\n",
       "      <td>Sales &amp; Marketing</td>\n",
       "      <td>4397</td>\n",
       "      <td>Master's &amp; above</td>\n",
       "      <td>f</td>\n",
       "      <td>sourcing</td>\n",
       "      <td>1</td>\n",
       "      <td>35</td>\n",
       "      <td>5.0</td>\n",
       "      <td>8</td>\n",
       "      <td>1</td>\n",
       "      <td>0</td>\n",
       "      <td>49</td>\n",
       "      <td>0</td>\n",
       "    </tr>\n",
       "    <tr>\n",
       "      <th>1</th>\n",
       "      <td>Operations</td>\n",
       "      <td>5435</td>\n",
       "      <td>Bachelor's</td>\n",
       "      <td>m</td>\n",
       "      <td>other</td>\n",
       "      <td>1</td>\n",
       "      <td>30</td>\n",
       "      <td>5.0</td>\n",
       "      <td>4</td>\n",
       "      <td>0</td>\n",
       "      <td>0</td>\n",
       "      <td>60</td>\n",
       "      <td>0</td>\n",
       "    </tr>\n",
       "    <tr>\n",
       "      <th>2</th>\n",
       "      <td>Sales &amp; Marketing</td>\n",
       "      <td>838</td>\n",
       "      <td>Bachelor's</td>\n",
       "      <td>m</td>\n",
       "      <td>sourcing</td>\n",
       "      <td>1</td>\n",
       "      <td>34</td>\n",
       "      <td>3.0</td>\n",
       "      <td>7</td>\n",
       "      <td>0</td>\n",
       "      <td>0</td>\n",
       "      <td>50</td>\n",
       "      <td>0</td>\n",
       "    </tr>\n",
       "    <tr>\n",
       "      <th>3</th>\n",
       "      <td>Sales &amp; Marketing</td>\n",
       "      <td>1104</td>\n",
       "      <td>Bachelor's</td>\n",
       "      <td>m</td>\n",
       "      <td>other</td>\n",
       "      <td>2</td>\n",
       "      <td>39</td>\n",
       "      <td>1.0</td>\n",
       "      <td>10</td>\n",
       "      <td>0</td>\n",
       "      <td>0</td>\n",
       "      <td>50</td>\n",
       "      <td>0</td>\n",
       "    </tr>\n",
       "    <tr>\n",
       "      <th>4</th>\n",
       "      <td>Technology</td>\n",
       "      <td>1966</td>\n",
       "      <td>Bachelor's</td>\n",
       "      <td>m</td>\n",
       "      <td>other</td>\n",
       "      <td>1</td>\n",
       "      <td>45</td>\n",
       "      <td>3.0</td>\n",
       "      <td>2</td>\n",
       "      <td>0</td>\n",
       "      <td>0</td>\n",
       "      <td>73</td>\n",
       "      <td>0</td>\n",
       "    </tr>\n",
       "    <tr>\n",
       "      <th>5</th>\n",
       "      <td>Analytics</td>\n",
       "      <td>10811</td>\n",
       "      <td>Bachelor's</td>\n",
       "      <td>m</td>\n",
       "      <td>sourcing</td>\n",
       "      <td>2</td>\n",
       "      <td>31</td>\n",
       "      <td>3.0</td>\n",
       "      <td>7</td>\n",
       "      <td>0</td>\n",
       "      <td>0</td>\n",
       "      <td>85</td>\n",
       "      <td>0</td>\n",
       "    </tr>\n",
       "    <tr>\n",
       "      <th>6</th>\n",
       "      <td>Operations</td>\n",
       "      <td>780</td>\n",
       "      <td>Bachelor's</td>\n",
       "      <td>f</td>\n",
       "      <td>other</td>\n",
       "      <td>1</td>\n",
       "      <td>31</td>\n",
       "      <td>3.0</td>\n",
       "      <td>5</td>\n",
       "      <td>0</td>\n",
       "      <td>0</td>\n",
       "      <td>59</td>\n",
       "      <td>0</td>\n",
       "    </tr>\n",
       "    <tr>\n",
       "      <th>7</th>\n",
       "      <td>Operations</td>\n",
       "      <td>253</td>\n",
       "      <td>Master's &amp; above</td>\n",
       "      <td>m</td>\n",
       "      <td>sourcing</td>\n",
       "      <td>1</td>\n",
       "      <td>33</td>\n",
       "      <td>3.0</td>\n",
       "      <td>6</td>\n",
       "      <td>0</td>\n",
       "      <td>0</td>\n",
       "      <td>63</td>\n",
       "      <td>0</td>\n",
       "    </tr>\n",
       "    <tr>\n",
       "      <th>8</th>\n",
       "      <td>Analytics</td>\n",
       "      <td>780</td>\n",
       "      <td>Bachelor's</td>\n",
       "      <td>m</td>\n",
       "      <td>other</td>\n",
       "      <td>1</td>\n",
       "      <td>28</td>\n",
       "      <td>4.0</td>\n",
       "      <td>5</td>\n",
       "      <td>0</td>\n",
       "      <td>0</td>\n",
       "      <td>83</td>\n",
       "      <td>0</td>\n",
       "    </tr>\n",
       "    <tr>\n",
       "      <th>9</th>\n",
       "      <td>Sales &amp; Marketing</td>\n",
       "      <td>553</td>\n",
       "      <td>Master's &amp; above</td>\n",
       "      <td>m</td>\n",
       "      <td>sourcing</td>\n",
       "      <td>1</td>\n",
       "      <td>32</td>\n",
       "      <td>5.0</td>\n",
       "      <td>5</td>\n",
       "      <td>1</td>\n",
       "      <td>0</td>\n",
       "      <td>54</td>\n",
       "      <td>0</td>\n",
       "    </tr>\n",
       "    <tr>\n",
       "      <th>11</th>\n",
       "      <td>Sales &amp; Marketing</td>\n",
       "      <td>4397</td>\n",
       "      <td>Bachelor's</td>\n",
       "      <td>f</td>\n",
       "      <td>sourcing</td>\n",
       "      <td>1</td>\n",
       "      <td>35</td>\n",
       "      <td>5.0</td>\n",
       "      <td>3</td>\n",
       "      <td>1</td>\n",
       "      <td>0</td>\n",
       "      <td>50</td>\n",
       "      <td>1</td>\n",
       "    </tr>\n",
       "    <tr>\n",
       "      <th>12</th>\n",
       "      <td>Sales &amp; Marketing</td>\n",
       "      <td>1626</td>\n",
       "      <td>Bachelor's</td>\n",
       "      <td>m</td>\n",
       "      <td>sourcing</td>\n",
       "      <td>1</td>\n",
       "      <td>49</td>\n",
       "      <td>5.0</td>\n",
       "      <td>5</td>\n",
       "      <td>1</td>\n",
       "      <td>0</td>\n",
       "      <td>49</td>\n",
       "      <td>0</td>\n",
       "    </tr>\n",
       "    <tr>\n",
       "      <th>13</th>\n",
       "      <td>Technology</td>\n",
       "      <td>896</td>\n",
       "      <td>Master's &amp; above</td>\n",
       "      <td>m</td>\n",
       "      <td>other</td>\n",
       "      <td>2</td>\n",
       "      <td>39</td>\n",
       "      <td>3.0</td>\n",
       "      <td>16</td>\n",
       "      <td>0</td>\n",
       "      <td>0</td>\n",
       "      <td>80</td>\n",
       "      <td>0</td>\n",
       "    </tr>\n",
       "    <tr>\n",
       "      <th>14</th>\n",
       "      <td>R&amp;D</td>\n",
       "      <td>10811</td>\n",
       "      <td>Master's &amp; above</td>\n",
       "      <td>m</td>\n",
       "      <td>sourcing</td>\n",
       "      <td>1</td>\n",
       "      <td>37</td>\n",
       "      <td>3.0</td>\n",
       "      <td>7</td>\n",
       "      <td>0</td>\n",
       "      <td>0</td>\n",
       "      <td>84</td>\n",
       "      <td>0</td>\n",
       "    </tr>\n",
       "    <tr>\n",
       "      <th>15</th>\n",
       "      <td>Operations</td>\n",
       "      <td>4397</td>\n",
       "      <td>Bachelor's</td>\n",
       "      <td>m</td>\n",
       "      <td>other</td>\n",
       "      <td>1</td>\n",
       "      <td>37</td>\n",
       "      <td>1.0</td>\n",
       "      <td>10</td>\n",
       "      <td>0</td>\n",
       "      <td>0</td>\n",
       "      <td>60</td>\n",
       "      <td>0</td>\n",
       "    </tr>\n",
       "    <tr>\n",
       "      <th>16</th>\n",
       "      <td>Technology</td>\n",
       "      <td>10811</td>\n",
       "      <td>Bachelor's</td>\n",
       "      <td>m</td>\n",
       "      <td>other</td>\n",
       "      <td>1</td>\n",
       "      <td>38</td>\n",
       "      <td>3.0</td>\n",
       "      <td>5</td>\n",
       "      <td>1</td>\n",
       "      <td>0</td>\n",
       "      <td>77</td>\n",
       "      <td>0</td>\n",
       "    </tr>\n",
       "    <tr>\n",
       "      <th>17</th>\n",
       "      <td>Sales &amp; Marketing</td>\n",
       "      <td>1692</td>\n",
       "      <td>Bachelor's</td>\n",
       "      <td>m</td>\n",
       "      <td>other</td>\n",
       "      <td>1</td>\n",
       "      <td>34</td>\n",
       "      <td>1.0</td>\n",
       "      <td>4</td>\n",
       "      <td>0</td>\n",
       "      <td>0</td>\n",
       "      <td>51</td>\n",
       "      <td>0</td>\n",
       "    </tr>\n",
       "    <tr>\n",
       "      <th>18</th>\n",
       "      <td>Sales &amp; Marketing</td>\n",
       "      <td>1692</td>\n",
       "      <td>Bachelor's</td>\n",
       "      <td>m</td>\n",
       "      <td>other</td>\n",
       "      <td>1</td>\n",
       "      <td>34</td>\n",
       "      <td>5.0</td>\n",
       "      <td>8</td>\n",
       "      <td>1</td>\n",
       "      <td>0</td>\n",
       "      <td>46</td>\n",
       "      <td>0</td>\n",
       "    </tr>\n",
       "    <tr>\n",
       "      <th>19</th>\n",
       "      <td>Operations</td>\n",
       "      <td>2512</td>\n",
       "      <td>Bachelor's</td>\n",
       "      <td>m</td>\n",
       "      <td>other</td>\n",
       "      <td>1</td>\n",
       "      <td>37</td>\n",
       "      <td>3.0</td>\n",
       "      <td>9</td>\n",
       "      <td>0</td>\n",
       "      <td>0</td>\n",
       "      <td>59</td>\n",
       "      <td>0</td>\n",
       "    </tr>\n",
       "    <tr>\n",
       "      <th>20</th>\n",
       "      <td>Procurement</td>\n",
       "      <td>770</td>\n",
       "      <td>Bachelor's</td>\n",
       "      <td>m</td>\n",
       "      <td>other</td>\n",
       "      <td>1</td>\n",
       "      <td>35</td>\n",
       "      <td>3.0</td>\n",
       "      <td>7</td>\n",
       "      <td>0</td>\n",
       "      <td>0</td>\n",
       "      <td>75</td>\n",
       "      <td>0</td>\n",
       "    </tr>\n",
       "  </tbody>\n",
       "</table>\n",
       "</div>"
      ],
      "text/plain": [
       "           department  region         education gender recruitment_channel  \\\n",
       "0   Sales & Marketing    4397  Master's & above      f            sourcing   \n",
       "1          Operations    5435        Bachelor's      m               other   \n",
       "2   Sales & Marketing     838        Bachelor's      m            sourcing   \n",
       "3   Sales & Marketing    1104        Bachelor's      m               other   \n",
       "4          Technology    1966        Bachelor's      m               other   \n",
       "5           Analytics   10811        Bachelor's      m            sourcing   \n",
       "6          Operations     780        Bachelor's      f               other   \n",
       "7          Operations     253  Master's & above      m            sourcing   \n",
       "8           Analytics     780        Bachelor's      m               other   \n",
       "9   Sales & Marketing     553  Master's & above      m            sourcing   \n",
       "11  Sales & Marketing    4397        Bachelor's      f            sourcing   \n",
       "12  Sales & Marketing    1626        Bachelor's      m            sourcing   \n",
       "13         Technology     896  Master's & above      m               other   \n",
       "14                R&D   10811  Master's & above      m            sourcing   \n",
       "15         Operations    4397        Bachelor's      m               other   \n",
       "16         Technology   10811        Bachelor's      m               other   \n",
       "17  Sales & Marketing    1692        Bachelor's      m               other   \n",
       "18  Sales & Marketing    1692        Bachelor's      m               other   \n",
       "19         Operations    2512        Bachelor's      m               other   \n",
       "20        Procurement     770        Bachelor's      m               other   \n",
       "\n",
       "    no_of_trainings  age  previous_year_rating  length_of_service  \\\n",
       "0                 1   35                   5.0                  8   \n",
       "1                 1   30                   5.0                  4   \n",
       "2                 1   34                   3.0                  7   \n",
       "3                 2   39                   1.0                 10   \n",
       "4                 1   45                   3.0                  2   \n",
       "5                 2   31                   3.0                  7   \n",
       "6                 1   31                   3.0                  5   \n",
       "7                 1   33                   3.0                  6   \n",
       "8                 1   28                   4.0                  5   \n",
       "9                 1   32                   5.0                  5   \n",
       "11                1   35                   5.0                  3   \n",
       "12                1   49                   5.0                  5   \n",
       "13                2   39                   3.0                 16   \n",
       "14                1   37                   3.0                  7   \n",
       "15                1   37                   1.0                 10   \n",
       "16                1   38                   3.0                  5   \n",
       "17                1   34                   1.0                  4   \n",
       "18                1   34                   5.0                  8   \n",
       "19                1   37                   3.0                  9   \n",
       "20                1   35                   3.0                  7   \n",
       "\n",
       "    kpis_met_80  awards_won  avg_training_score  is_promoted  \n",
       "0             1           0                  49            0  \n",
       "1             0           0                  60            0  \n",
       "2             0           0                  50            0  \n",
       "3             0           0                  50            0  \n",
       "4             0           0                  73            0  \n",
       "5             0           0                  85            0  \n",
       "6             0           0                  59            0  \n",
       "7             0           0                  63            0  \n",
       "8             0           0                  83            0  \n",
       "9             1           0                  54            0  \n",
       "11            1           0                  50            1  \n",
       "12            1           0                  49            0  \n",
       "13            0           0                  80            0  \n",
       "14            0           0                  84            0  \n",
       "15            0           0                  60            0  \n",
       "16            1           0                  77            0  \n",
       "17            0           0                  51            0  \n",
       "18            1           0                  46            0  \n",
       "19            0           0                  59            0  \n",
       "20            0           0                  75            0  "
      ]
     },
     "execution_count": 57,
     "metadata": {},
     "output_type": "execute_result"
    }
   ],
   "source": [
    "region_map = promotion_cleaned['region'].value_counts().to_dict()\n",
    "\n",
    "promotion_cleaned['region']=promotion_cleaned['region'].map(region_map)\n",
    "promotion_cleaned.head(20)"
   ]
  },
  {
   "cell_type": "code",
   "execution_count": 58,
   "id": "b524869f",
   "metadata": {
    "colab": {
     "base_uri": "https://localhost:8080/"
    },
    "executionInfo": {
     "elapsed": 236,
     "status": "ok",
     "timestamp": 1653490023867,
     "user": {
      "displayName": "Francisco Ponce",
      "userId": "03873220340391419698"
     },
     "user_tz": 300
    },
    "id": "b524869f",
    "outputId": "49f6f7f8-84fb-47d4-f85f-ffc30e3f5f09"
   },
   "outputs": [
    {
     "data": {
      "text/plain": [
       "array([3, 2, 1])"
      ]
     },
     "execution_count": 58,
     "metadata": {},
     "output_type": "execute_result"
    }
   ],
   "source": [
    "promotion_cleaned['education'] = promotion_cleaned['education'].replace({\"not_specified\":4, \"Master's & above\":3,\"Bachelor's\":2,'Below Secondary':1})\n",
    "promotion_cleaned['education'].unique()"
   ]
  },
  {
   "cell_type": "code",
   "execution_count": 59,
   "id": "ZioYevG3BIWU",
   "metadata": {
    "colab": {
     "base_uri": "https://localhost:8080/"
    },
    "executionInfo": {
     "elapsed": 220,
     "status": "ok",
     "timestamp": 1653490023867,
     "user": {
      "displayName": "Francisco Ponce",
      "userId": "03873220340391419698"
     },
     "user_tz": 300
    },
    "id": "ZioYevG3BIWU",
    "outputId": "400816a0-267d-40f8-87c3-9109e77c852b"
   },
   "outputs": [
    {
     "data": {
      "text/plain": [
       "F_onewayResult(statistic=1227777.6291747647, pvalue=0.0)"
      ]
     },
     "execution_count": 59,
     "metadata": {},
     "output_type": "execute_result"
    }
   ],
   "source": [
    "f_oneway(promotion['is_promoted'], promotion['avg_training_score'])"
   ]
  },
  {
   "cell_type": "code",
   "execution_count": 60,
   "id": "c1e4fcc0",
   "metadata": {
    "colab": {
     "base_uri": "https://localhost:8080/"
    },
    "executionInfo": {
     "elapsed": 218,
     "status": "ok",
     "timestamp": 1653490023867,
     "user": {
      "displayName": "Francisco Ponce",
      "userId": "03873220340391419698"
     },
     "user_tz": 300
    },
    "id": "c1e4fcc0",
    "outputId": "89411f02-5f60-4ae3-bf5b-8ceac87736c9"
   },
   "outputs": [
    {
     "data": {
      "text/plain": [
       "array([3, 5, 8, 6, 2, 7, 4, 1, 0])"
      ]
     },
     "execution_count": 60,
     "metadata": {},
     "output_type": "execute_result"
    }
   ],
   "source": [
    "promotion_cleaned['department'].value_counts()\n",
    "labels_ordered_by_mean = promotion_cleaned.groupby(['department'])['is_promoted'].mean().sort_values().index\n",
    "labels_ordered_by_mean_dict = {k:v for v,k in enumerate(labels_ordered_by_mean)}\n",
    "promotion_cleaned['department'] = promotion_cleaned['department'].map(labels_ordered_by_mean_dict)\n",
    "promotion_cleaned['department'].unique()"
   ]
  },
  {
   "cell_type": "code",
   "execution_count": 61,
   "id": "927bb3e7",
   "metadata": {
    "colab": {
     "base_uri": "https://localhost:8080/",
     "height": 283
    },
    "executionInfo": {
     "elapsed": 215,
     "status": "ok",
     "timestamp": 1653490023867,
     "user": {
      "displayName": "Francisco Ponce",
      "userId": "03873220340391419698"
     },
     "user_tz": 300
    },
    "id": "927bb3e7",
    "outputId": "5c9e0361-6fd2-4f62-98c8-159f0f163ed2"
   },
   "outputs": [
    {
     "data": {
      "text/plain": [
       "<AxesSubplot:>"
      ]
     },
     "execution_count": 61,
     "metadata": {},
     "output_type": "execute_result"
    },
    {
     "data": {
      "image/png": "[encoded data removed]",
      "text/plain": [
       "<Figure size 432x288 with 1 Axes>"
      ]
     },
     "metadata": {},
     "output_type": "display_data"
    }
   ],
   "source": [
    "promotion_cleaned['department'].value_counts().plot(kind='bar')"
   ]
  },
  {
   "cell_type": "code",
   "execution_count": 62,
   "id": "f8782dc4",
   "metadata": {
    "colab": {
     "base_uri": "https://localhost:8080/",
     "height": 487
    },
    "executionInfo": {
     "elapsed": 212,
     "status": "ok",
     "timestamp": 1653490023867,
     "user": {
      "displayName": "Francisco Ponce",
      "userId": "03873220340391419698"
     },
     "user_tz": 300
    },
    "id": "f8782dc4",
    "outputId": "374b2132-6da6-4105-e8dd-3ed1b7bcb23d"
   },
   "outputs": [
    {
     "data": {
      "text/html": [
       "<div>\n",
       "<style scoped>\n",
       "    .dataframe tbody tr th:only-of-type {\n",
       "        vertical-align: middle;\n",
       "    }\n",
       "\n",
       "    .dataframe tbody tr th {\n",
       "        vertical-align: top;\n",
       "    }\n",
       "\n",
       "    .dataframe thead th {\n",
       "        text-align: right;\n",
       "    }\n",
       "</style>\n",
       "<table border=\"1\" class=\"dataframe\">\n",
       "  <thead>\n",
       "    <tr style=\"text-align: right;\">\n",
       "      <th></th>\n",
       "      <th>department</th>\n",
       "      <th>region</th>\n",
       "      <th>education</th>\n",
       "      <th>no_of_trainings</th>\n",
       "      <th>age</th>\n",
       "      <th>previous_year_rating</th>\n",
       "      <th>length_of_service</th>\n",
       "      <th>kpis_met_80</th>\n",
       "      <th>awards_won</th>\n",
       "      <th>avg_training_score</th>\n",
       "      <th>is_promoted</th>\n",
       "      <th>gender_m</th>\n",
       "      <th>recruitment_channel_referred</th>\n",
       "      <th>recruitment_channel_sourcing</th>\n",
       "    </tr>\n",
       "  </thead>\n",
       "  <tbody>\n",
       "    <tr>\n",
       "      <th>0</th>\n",
       "      <td>3</td>\n",
       "      <td>4397</td>\n",
       "      <td>3</td>\n",
       "      <td>1</td>\n",
       "      <td>35</td>\n",
       "      <td>5.0</td>\n",
       "      <td>8</td>\n",
       "      <td>1</td>\n",
       "      <td>0</td>\n",
       "      <td>49</td>\n",
       "      <td>0</td>\n",
       "      <td>0</td>\n",
       "      <td>0</td>\n",
       "      <td>1</td>\n",
       "    </tr>\n",
       "    <tr>\n",
       "      <th>1</th>\n",
       "      <td>5</td>\n",
       "      <td>5435</td>\n",
       "      <td>2</td>\n",
       "      <td>1</td>\n",
       "      <td>30</td>\n",
       "      <td>5.0</td>\n",
       "      <td>4</td>\n",
       "      <td>0</td>\n",
       "      <td>0</td>\n",
       "      <td>60</td>\n",
       "      <td>0</td>\n",
       "      <td>1</td>\n",
       "      <td>0</td>\n",
       "      <td>0</td>\n",
       "    </tr>\n",
       "    <tr>\n",
       "      <th>2</th>\n",
       "      <td>3</td>\n",
       "      <td>838</td>\n",
       "      <td>2</td>\n",
       "      <td>1</td>\n",
       "      <td>34</td>\n",
       "      <td>3.0</td>\n",
       "      <td>7</td>\n",
       "      <td>0</td>\n",
       "      <td>0</td>\n",
       "      <td>50</td>\n",
       "      <td>0</td>\n",
       "      <td>1</td>\n",
       "      <td>0</td>\n",
       "      <td>1</td>\n",
       "    </tr>\n",
       "    <tr>\n",
       "      <th>3</th>\n",
       "      <td>3</td>\n",
       "      <td>1104</td>\n",
       "      <td>2</td>\n",
       "      <td>2</td>\n",
       "      <td>39</td>\n",
       "      <td>1.0</td>\n",
       "      <td>10</td>\n",
       "      <td>0</td>\n",
       "      <td>0</td>\n",
       "      <td>50</td>\n",
       "      <td>0</td>\n",
       "      <td>1</td>\n",
       "      <td>0</td>\n",
       "      <td>0</td>\n",
       "    </tr>\n",
       "    <tr>\n",
       "      <th>4</th>\n",
       "      <td>8</td>\n",
       "      <td>1966</td>\n",
       "      <td>2</td>\n",
       "      <td>1</td>\n",
       "      <td>45</td>\n",
       "      <td>3.0</td>\n",
       "      <td>2</td>\n",
       "      <td>0</td>\n",
       "      <td>0</td>\n",
       "      <td>73</td>\n",
       "      <td>0</td>\n",
       "      <td>1</td>\n",
       "      <td>0</td>\n",
       "      <td>0</td>\n",
       "    </tr>\n",
       "    <tr>\n",
       "      <th>...</th>\n",
       "      <td>...</td>\n",
       "      <td>...</td>\n",
       "      <td>...</td>\n",
       "      <td>...</td>\n",
       "      <td>...</td>\n",
       "      <td>...</td>\n",
       "      <td>...</td>\n",
       "      <td>...</td>\n",
       "      <td>...</td>\n",
       "      <td>...</td>\n",
       "      <td>...</td>\n",
       "      <td>...</td>\n",
       "      <td>...</td>\n",
       "      <td>...</td>\n",
       "    </tr>\n",
       "    <tr>\n",
       "      <th>54802</th>\n",
       "      <td>3</td>\n",
       "      <td>770</td>\n",
       "      <td>2</td>\n",
       "      <td>2</td>\n",
       "      <td>31</td>\n",
       "      <td>1.0</td>\n",
       "      <td>2</td>\n",
       "      <td>0</td>\n",
       "      <td>0</td>\n",
       "      <td>49</td>\n",
       "      <td>0</td>\n",
       "      <td>1</td>\n",
       "      <td>0</td>\n",
       "      <td>0</td>\n",
       "    </tr>\n",
       "    <tr>\n",
       "      <th>54803</th>\n",
       "      <td>8</td>\n",
       "      <td>770</td>\n",
       "      <td>2</td>\n",
       "      <td>1</td>\n",
       "      <td>48</td>\n",
       "      <td>3.0</td>\n",
       "      <td>17</td>\n",
       "      <td>0</td>\n",
       "      <td>0</td>\n",
       "      <td>78</td>\n",
       "      <td>0</td>\n",
       "      <td>1</td>\n",
       "      <td>0</td>\n",
       "      <td>1</td>\n",
       "    </tr>\n",
       "    <tr>\n",
       "      <th>54804</th>\n",
       "      <td>5</td>\n",
       "      <td>1418</td>\n",
       "      <td>3</td>\n",
       "      <td>1</td>\n",
       "      <td>37</td>\n",
       "      <td>2.0</td>\n",
       "      <td>6</td>\n",
       "      <td>0</td>\n",
       "      <td>0</td>\n",
       "      <td>56</td>\n",
       "      <td>0</td>\n",
       "      <td>0</td>\n",
       "      <td>0</td>\n",
       "      <td>0</td>\n",
       "    </tr>\n",
       "    <tr>\n",
       "      <th>54805</th>\n",
       "      <td>6</td>\n",
       "      <td>553</td>\n",
       "      <td>2</td>\n",
       "      <td>1</td>\n",
       "      <td>27</td>\n",
       "      <td>5.0</td>\n",
       "      <td>3</td>\n",
       "      <td>1</td>\n",
       "      <td>0</td>\n",
       "      <td>79</td>\n",
       "      <td>0</td>\n",
       "      <td>1</td>\n",
       "      <td>0</td>\n",
       "      <td>0</td>\n",
       "    </tr>\n",
       "    <tr>\n",
       "      <th>54807</th>\n",
       "      <td>1</td>\n",
       "      <td>5435</td>\n",
       "      <td>2</td>\n",
       "      <td>1</td>\n",
       "      <td>27</td>\n",
       "      <td>1.0</td>\n",
       "      <td>5</td>\n",
       "      <td>0</td>\n",
       "      <td>0</td>\n",
       "      <td>49</td>\n",
       "      <td>0</td>\n",
       "      <td>1</td>\n",
       "      <td>0</td>\n",
       "      <td>0</td>\n",
       "    </tr>\n",
       "  </tbody>\n",
       "</table>\n",
       "<p>48660 rows × 14 columns</p>\n",
       "</div>"
      ],
      "text/plain": [
       "       department  region  education  no_of_trainings  age  \\\n",
       "0               3    4397          3                1   35   \n",
       "1               5    5435          2                1   30   \n",
       "2               3     838          2                1   34   \n",
       "3               3    1104          2                2   39   \n",
       "4               8    1966          2                1   45   \n",
       "...           ...     ...        ...              ...  ...   \n",
       "54802           3     770          2                2   31   \n",
       "54803           8     770          2                1   48   \n",
       "54804           5    1418          3                1   37   \n",
       "54805           6     553          2                1   27   \n",
       "54807           1    5435          2                1   27   \n",
       "\n",
       "       previous_year_rating  length_of_service  kpis_met_80  awards_won  \\\n",
       "0                       5.0                  8            1           0   \n",
       "1                       5.0                  4            0           0   \n",
       "2                       3.0                  7            0           0   \n",
       "3                       1.0                 10            0           0   \n",
       "4                       3.0                  2            0           0   \n",
       "...                     ...                ...          ...         ...   \n",
       "54802                   1.0                  2            0           0   \n",
       "54803                   3.0                 17            0           0   \n",
       "54804                   2.0                  6            0           0   \n",
       "54805                   5.0                  3            1           0   \n",
       "54807                   1.0                  5            0           0   \n",
       "\n",
       "       avg_training_score  is_promoted  gender_m  \\\n",
       "0                      49            0         0   \n",
       "1                      60            0         1   \n",
       "2                      50            0         1   \n",
       "3                      50            0         1   \n",
       "4                      73            0         1   \n",
       "...                   ...          ...       ...   \n",
       "54802                  49            0         1   \n",
       "54803                  78            0         1   \n",
       "54804                  56            0         0   \n",
       "54805                  79            0         1   \n",
       "54807                  49            0         1   \n",
       "\n",
       "       recruitment_channel_referred  recruitment_channel_sourcing  \n",
       "0                                 0                             1  \n",
       "1                                 0                             0  \n",
       "2                                 0                             1  \n",
       "3                                 0                             0  \n",
       "4                                 0                             0  \n",
       "...                             ...                           ...  \n",
       "54802                             0                             0  \n",
       "54803                             0                             1  \n",
       "54804                             0                             0  \n",
       "54805                             0                             0  \n",
       "54807                             0                             0  \n",
       "\n",
       "[48660 rows x 14 columns]"
      ]
     },
     "execution_count": 62,
     "metadata": {},
     "output_type": "execute_result"
    }
   ],
   "source": [
    "promotion_cleaned_dummies = pd.get_dummies(promotion_cleaned, drop_first=True)\n",
    "promotion_cleaned_dummies"
   ]
  },
  {
   "cell_type": "code",
   "execution_count": 63,
   "id": "8bba0fb8",
   "metadata": {
    "colab": {
     "base_uri": "https://localhost:8080/",
     "height": 458
    },
    "executionInfo": {
     "elapsed": 212,
     "status": "ok",
     "timestamp": 1653490023867,
     "user": {
      "displayName": "Francisco Ponce",
      "userId": "03873220340391419698"
     },
     "user_tz": 300
    },
    "id": "8bba0fb8",
    "outputId": "93238b92-5218-4eca-bd94-660897a453ab"
   },
   "outputs": [
    {
     "data": {
      "text/html": [
       "<div>\n",
       "<style scoped>\n",
       "    .dataframe tbody tr th:only-of-type {\n",
       "        vertical-align: middle;\n",
       "    }\n",
       "\n",
       "    .dataframe tbody tr th {\n",
       "        vertical-align: top;\n",
       "    }\n",
       "\n",
       "    .dataframe thead th {\n",
       "        text-align: right;\n",
       "    }\n",
       "</style>\n",
       "<table border=\"1\" class=\"dataframe\">\n",
       "  <thead>\n",
       "    <tr style=\"text-align: right;\">\n",
       "      <th></th>\n",
       "      <th>department</th>\n",
       "      <th>region</th>\n",
       "      <th>education</th>\n",
       "      <th>no_of_trainings</th>\n",
       "      <th>previous_year_rating</th>\n",
       "      <th>kpis_met_80</th>\n",
       "      <th>awards_won</th>\n",
       "      <th>is_promoted</th>\n",
       "      <th>gender_m</th>\n",
       "      <th>recruitment_channel_referred</th>\n",
       "      <th>recruitment_channel_sourcing</th>\n",
       "    </tr>\n",
       "  </thead>\n",
       "  <tbody>\n",
       "    <tr>\n",
       "      <th>department</th>\n",
       "      <td>1.000000</td>\n",
       "      <td>-0.011950</td>\n",
       "      <td>0.034209</td>\n",
       "      <td>0.039862</td>\n",
       "      <td>0.015569</td>\n",
       "      <td>0.057351</td>\n",
       "      <td>0.009546</td>\n",
       "      <td>0.050103</td>\n",
       "      <td>-0.136718</td>\n",
       "      <td>0.031133</td>\n",
       "      <td>-0.005411</td>\n",
       "    </tr>\n",
       "    <tr>\n",
       "      <th>region</th>\n",
       "      <td>-0.011950</td>\n",
       "      <td>1.000000</td>\n",
       "      <td>0.044347</td>\n",
       "      <td>0.080350</td>\n",
       "      <td>0.015302</td>\n",
       "      <td>0.016771</td>\n",
       "      <td>-0.005073</td>\n",
       "      <td>0.009713</td>\n",
       "      <td>-0.117643</td>\n",
       "      <td>0.130436</td>\n",
       "      <td>0.000241</td>\n",
       "    </tr>\n",
       "    <tr>\n",
       "      <th>education</th>\n",
       "      <td>0.034209</td>\n",
       "      <td>0.044347</td>\n",
       "      <td>1.000000</td>\n",
       "      <td>-0.036286</td>\n",
       "      <td>0.010256</td>\n",
       "      <td>0.002989</td>\n",
       "      <td>-0.001961</td>\n",
       "      <td>0.027547</td>\n",
       "      <td>-0.021494</td>\n",
       "      <td>-0.033021</td>\n",
       "      <td>-0.000747</td>\n",
       "    </tr>\n",
       "    <tr>\n",
       "      <th>no_of_trainings</th>\n",
       "      <td>0.039862</td>\n",
       "      <td>0.080350</td>\n",
       "      <td>-0.036286</td>\n",
       "      <td>1.000000</td>\n",
       "      <td>-0.064236</td>\n",
       "      <td>-0.046673</td>\n",
       "      <td>-0.008528</td>\n",
       "      <td>-0.025006</td>\n",
       "      <td>0.085456</td>\n",
       "      <td>-0.015895</td>\n",
       "      <td>-0.009477</td>\n",
       "    </tr>\n",
       "    <tr>\n",
       "      <th>previous_year_rating</th>\n",
       "      <td>0.015569</td>\n",
       "      <td>0.015302</td>\n",
       "      <td>0.010256</td>\n",
       "      <td>-0.064236</td>\n",
       "      <td>1.000000</td>\n",
       "      <td>0.352434</td>\n",
       "      <td>0.027920</td>\n",
       "      <td>0.158715</td>\n",
       "      <td>-0.022828</td>\n",
       "      <td>0.070560</td>\n",
       "      <td>-0.004721</td>\n",
       "    </tr>\n",
       "    <tr>\n",
       "      <th>kpis_met_80</th>\n",
       "      <td>0.057351</td>\n",
       "      <td>0.016771</td>\n",
       "      <td>0.002989</td>\n",
       "      <td>-0.046673</td>\n",
       "      <td>0.352434</td>\n",
       "      <td>1.000000</td>\n",
       "      <td>0.095208</td>\n",
       "      <td>0.219933</td>\n",
       "      <td>-0.038172</td>\n",
       "      <td>0.045645</td>\n",
       "      <td>-0.005952</td>\n",
       "    </tr>\n",
       "    <tr>\n",
       "      <th>awards_won</th>\n",
       "      <td>0.009546</td>\n",
       "      <td>-0.005073</td>\n",
       "      <td>-0.001961</td>\n",
       "      <td>-0.008528</td>\n",
       "      <td>0.027920</td>\n",
       "      <td>0.095208</td>\n",
       "      <td>1.000000</td>\n",
       "      <td>0.196971</td>\n",
       "      <td>0.002275</td>\n",
       "      <td>0.001333</td>\n",
       "      <td>-0.006146</td>\n",
       "    </tr>\n",
       "    <tr>\n",
       "      <th>is_promoted</th>\n",
       "      <td>0.050103</td>\n",
       "      <td>0.009713</td>\n",
       "      <td>0.027547</td>\n",
       "      <td>-0.025006</td>\n",
       "      <td>0.158715</td>\n",
       "      <td>0.219933</td>\n",
       "      <td>0.196971</td>\n",
       "      <td>1.000000</td>\n",
       "      <td>-0.011909</td>\n",
       "      <td>0.021020</td>\n",
       "      <td>0.000797</td>\n",
       "    </tr>\n",
       "    <tr>\n",
       "      <th>gender_m</th>\n",
       "      <td>-0.136718</td>\n",
       "      <td>-0.117643</td>\n",
       "      <td>-0.021494</td>\n",
       "      <td>0.085456</td>\n",
       "      <td>-0.022828</td>\n",
       "      <td>-0.038172</td>\n",
       "      <td>0.002275</td>\n",
       "      <td>-0.011909</td>\n",
       "      <td>1.000000</td>\n",
       "      <td>0.009479</td>\n",
       "      <td>0.001889</td>\n",
       "    </tr>\n",
       "    <tr>\n",
       "      <th>recruitment_channel_referred</th>\n",
       "      <td>0.031133</td>\n",
       "      <td>0.130436</td>\n",
       "      <td>-0.033021</td>\n",
       "      <td>-0.015895</td>\n",
       "      <td>0.070560</td>\n",
       "      <td>0.045645</td>\n",
       "      <td>0.001333</td>\n",
       "      <td>0.021020</td>\n",
       "      <td>0.009479</td>\n",
       "      <td>1.000000</td>\n",
       "      <td>-0.125494</td>\n",
       "    </tr>\n",
       "    <tr>\n",
       "      <th>recruitment_channel_sourcing</th>\n",
       "      <td>-0.005411</td>\n",
       "      <td>0.000241</td>\n",
       "      <td>-0.000747</td>\n",
       "      <td>-0.009477</td>\n",
       "      <td>-0.004721</td>\n",
       "      <td>-0.005952</td>\n",
       "      <td>-0.006146</td>\n",
       "      <td>0.000797</td>\n",
       "      <td>0.001889</td>\n",
       "      <td>-0.125494</td>\n",
       "      <td>1.000000</td>\n",
       "    </tr>\n",
       "  </tbody>\n",
       "</table>\n",
       "</div>"
      ],
      "text/plain": [
       "                              department    region  education  \\\n",
       "department                      1.000000 -0.011950   0.034209   \n",
       "region                         -0.011950  1.000000   0.044347   \n",
       "education                       0.034209  0.044347   1.000000   \n",
       "no_of_trainings                 0.039862  0.080350  -0.036286   \n",
       "previous_year_rating            0.015569  0.015302   0.010256   \n",
       "kpis_met_80                     0.057351  0.016771   0.002989   \n",
       "awards_won                      0.009546 -0.005073  -0.001961   \n",
       "is_promoted                     0.050103  0.009713   0.027547   \n",
       "gender_m                       -0.136718 -0.117643  -0.021494   \n",
       "recruitment_channel_referred    0.031133  0.130436  -0.033021   \n",
       "recruitment_channel_sourcing   -0.005411  0.000241  -0.000747   \n",
       "\n",
       "                              no_of_trainings  previous_year_rating  \\\n",
       "department                           0.039862              0.015569   \n",
       "region                               0.080350              0.015302   \n",
       "education                           -0.036286              0.010256   \n",
       "no_of_trainings                      1.000000             -0.064236   \n",
       "previous_year_rating                -0.064236              1.000000   \n",
       "kpis_met_80                         -0.046673              0.352434   \n",
       "awards_won                          -0.008528              0.027920   \n",
       "is_promoted                         -0.025006              0.158715   \n",
       "gender_m                             0.085456             -0.022828   \n",
       "recruitment_channel_referred        -0.015895              0.070560   \n",
       "recruitment_channel_sourcing        -0.009477             -0.004721   \n",
       "\n",
       "                              kpis_met_80  awards_won  is_promoted  gender_m  \\\n",
       "department                       0.057351    0.009546     0.050103 -0.136718   \n",
       "region                           0.016771   -0.005073     0.009713 -0.117643   \n",
       "education                        0.002989   -0.001961     0.027547 -0.021494   \n",
       "no_of_trainings                 -0.046673   -0.008528    -0.025006  0.085456   \n",
       "previous_year_rating             0.352434    0.027920     0.158715 -0.022828   \n",
       "kpis_met_80                      1.000000    0.095208     0.219933 -0.038172   \n",
       "awards_won                       0.095208    1.000000     0.196971  0.002275   \n",
       "is_promoted                      0.219933    0.196971     1.000000 -0.011909   \n",
       "gender_m                        -0.038172    0.002275    -0.011909  1.000000   \n",
       "recruitment_channel_referred     0.045645    0.001333     0.021020  0.009479   \n",
       "recruitment_channel_sourcing    -0.005952   -0.006146     0.000797  0.001889   \n",
       "\n",
       "                              recruitment_channel_referred  \\\n",
       "department                                        0.031133   \n",
       "region                                            0.130436   \n",
       "education                                        -0.033021   \n",
       "no_of_trainings                                  -0.015895   \n",
       "previous_year_rating                              0.070560   \n",
       "kpis_met_80                                       0.045645   \n",
       "awards_won                                        0.001333   \n",
       "is_promoted                                       0.021020   \n",
       "gender_m                                          0.009479   \n",
       "recruitment_channel_referred                      1.000000   \n",
       "recruitment_channel_sourcing                     -0.125494   \n",
       "\n",
       "                              recruitment_channel_sourcing  \n",
       "department                                       -0.005411  \n",
       "region                                            0.000241  \n",
       "education                                        -0.000747  \n",
       "no_of_trainings                                  -0.009477  \n",
       "previous_year_rating                             -0.004721  \n",
       "kpis_met_80                                      -0.005952  \n",
       "awards_won                                       -0.006146  \n",
       "is_promoted                                       0.000797  \n",
       "gender_m                                          0.001889  \n",
       "recruitment_channel_referred                     -0.125494  \n",
       "recruitment_channel_sourcing                      1.000000  "
      ]
     },
     "execution_count": 63,
     "metadata": {},
     "output_type": "execute_result"
    }
   ],
   "source": [
    "dummies_corr = promotion_cleaned_dummies.drop(['age','length_of_service', 'avg_training_score'], axis=1).corr()\n",
    "dummies_corr"
   ]
  },
  {
   "cell_type": "code",
   "execution_count": 64,
   "id": "c28068bd",
   "metadata": {
    "colab": {
     "base_uri": "https://localhost:8080/",
     "height": 1000
    },
    "executionInfo": {
     "elapsed": 670,
     "status": "ok",
     "timestamp": 1653490024326,
     "user": {
      "displayName": "Francisco Ponce",
      "userId": "03873220340391419698"
     },
     "user_tz": 300
    },
    "id": "c28068bd",
    "outputId": "f7e9f7f1-3944-47da-938a-319db24671f8"
   },
   "outputs": [
    {
     "data": {
      "image/png": "[encoded data removed]",
      "text/plain": [
       "<Figure size 1800x1080 with 2 Axes>"
      ]
     },
     "metadata": {},
     "output_type": "display_data"
    }
   ],
   "source": [
    "sns.set()\n",
    "\n",
    "fig, ax = plt.subplots(figsize=(25, 15))\n",
    "sns.heatmap(round(dummies_corr, 2), annot=True, ax=ax, cmap='coolwarm',\n",
    "            fmt='.2f', linewidths=0.5)\n",
    "fig.subplots_adjust(top=0.93)\n",
    "fig.suptitle('Mapa de Correlaciones');\n"
   ]
  },
  {
   "cell_type": "code",
   "execution_count": 65,
   "id": "c5fff07c",
   "metadata": {
    "colab": {
     "base_uri": "https://localhost:8080/"
    },
    "executionInfo": {
     "elapsed": 21,
     "status": "ok",
     "timestamp": 1653490024327,
     "user": {
      "displayName": "Francisco Ponce",
      "userId": "03873220340391419698"
     },
     "user_tz": 300
    },
    "id": "c5fff07c",
    "outputId": "5a35ca81-33d6-49c2-fe85-8d58e33b8b12"
   },
   "outputs": [
    {
     "name": "stdout",
     "output_type": "stream",
     "text": [
      "is_promoted\n",
      "0              44428\n",
      "1               4232\n",
      "dtype: int64\n"
     ]
    }
   ],
   "source": [
    "X = promotion_cleaned_dummies.drop(['is_promoted','region'], axis=1)\n",
    "y = promotion_cleaned_dummies[['is_promoted']]\n",
    "\n",
    "print(y.value_counts())"
   ]
  },
  {
   "cell_type": "code",
   "execution_count": 66,
   "id": "ff32ad90",
   "metadata": {
    "executionInfo": {
     "elapsed": 18,
     "status": "ok",
     "timestamp": 1653490024327,
     "user": {
      "displayName": "Francisco Ponce",
      "userId": "03873220340391419698"
     },
     "user_tz": 300
    },
    "id": "ff32ad90"
   },
   "outputs": [],
   "source": [
    "# Standardization of data #\n",
    "\n",
    "\n",
    "# PredictorScaler=StandardScaler()\n",
    "PredictorScaler=MinMaxScaler()\n",
    "\n",
    "PredictorScalerFit = PredictorScaler.fit(X)\n",
    "\n",
    "X =  PredictorScalerFit.transform(X)"
   ]
  },
  {
   "cell_type": "code",
   "execution_count": 97,
   "id": "13f43a37",
   "metadata": {
    "colab": {
     "base_uri": "https://localhost:8080/"
    },
    "executionInfo": {
     "elapsed": 18,
     "status": "ok",
     "timestamp": 1653490024327,
     "user": {
      "displayName": "Francisco Ponce",
      "userId": "03873220340391419698"
     },
     "user_tz": 300
    },
    "id": "13f43a37",
    "outputId": "d16a65a0-3fa2-49ba-d1f0-4fe0ffd65b7e"
   },
   "outputs": [
    {
     "name": "stdout",
     "output_type": "stream",
     "text": [
      "(array([0, 1]), array([3365, 3365]))\n"
     ]
    },
    {
     "data": {
      "text/plain": [
       "1.0"
      ]
     },
     "execution_count": 97,
     "metadata": {},
     "output_type": "execute_result"
    }
   ],
   "source": [
    "X_train, X_test, y_train, y_test = train_test_split(X, y.values, test_size=0.2)\n",
    "X_train.shape, X_test.shape, y_train.shape, y_test.shape\n",
    "# sm_smote = SMOTE()\n",
    "sm_under = RandomUnderSampler()\n",
    "\n",
    "# X_train, y_train = sm_smote.fit_resample(X_train, y_train)\n",
    "X_train, y_train = sm_under.fit_resample(X_train, y_train)\n",
    "\n",
    "\n",
    "# X_test, y_test = sm_smote.fit_resample(X_test, y_test)\n",
    "X_test, y_test = sm_under.fit_resample(X_test, y_test)\n",
    "\n",
    "\n",
    "(unique, counts)= np.unique(y_train, return_counts=True)\n",
    "print((unique, counts))\n",
    "\n",
    "counts[1]/counts[0]"
   ]
  },
  {
   "cell_type": "code",
   "execution_count": 68,
   "id": "cdcdcd56",
   "metadata": {
    "colab": {
     "base_uri": "https://localhost:8080/"
    },
    "executionInfo": {
     "elapsed": 16,
     "status": "ok",
     "timestamp": 1653490024327,
     "user": {
      "displayName": "Francisco Ponce",
      "userId": "03873220340391419698"
     },
     "user_tz": 300
    },
    "id": "cdcdcd56",
    "outputId": "268514d4-c49e-48c6-cf40-ff93c55ef33f"
   },
   "outputs": [
    {
     "data": {
      "text/plain": [
       "(3399, 3399)"
      ]
     },
     "execution_count": 68,
     "metadata": {},
     "output_type": "execute_result"
    }
   ],
   "source": [
    "len(y_train[y_train==0]), len(y_train[y_train==1])"
   ]
  },
  {
   "cell_type": "code",
   "execution_count": 69,
   "id": "b952e337",
   "metadata": {
    "colab": {
     "base_uri": "https://localhost:8080/"
    },
    "executionInfo": {
     "elapsed": 13,
     "status": "ok",
     "timestamp": 1653490024327,
     "user": {
      "displayName": "Francisco Ponce",
      "userId": "03873220340391419698"
     },
     "user_tz": 300
    },
    "id": "b952e337",
    "outputId": "1ee81aae-1827-4f84-f2fd-5035ef7b8fed"
   },
   "outputs": [
    {
     "name": "stdout",
     "output_type": "stream",
     "text": [
      "              precision    recall  f1-score   support\n",
      "\n",
      "           0       0.72      0.69      0.70      3399\n",
      "           1       0.70      0.73      0.72      3399\n",
      "\n",
      "    accuracy                           0.71      6798\n",
      "   macro avg       0.71      0.71      0.71      6798\n",
      "weighted avg       0.71      0.71      0.71      6798\n",
      "\n",
      "[[2350 1049]\n",
      " [ 923 2476]]\n",
      "\n",
      "------------------------------------------------------------\n",
      "\n",
      "              precision    recall  f1-score   support\n",
      "\n",
      "           0       0.71      0.69      0.70       833\n",
      "           1       0.70      0.72      0.71       833\n",
      "\n",
      "    accuracy                           0.71      1666\n",
      "   macro avg       0.71      0.71      0.71      1666\n",
      "weighted avg       0.71      0.71      0.71      1666\n",
      "\n",
      "[[578 255]\n",
      " [231 602]]\n"
     ]
    }
   ],
   "source": [
    "# Logistic Regression\n",
    "\n",
    "lr_clf = LogisticRegression()\n",
    "\n",
    "lr_clf.fit(X_train,y_train)\n",
    "y_pred = lr_clf.predict(X_test)\n",
    "\n",
    "\n",
    "print(classification_report(y_train, lr_clf.predict(X_train)))\n",
    "print(confusion_matrix(y_train, lr_clf.predict(X_train)))\n",
    "\n",
    "print()\n",
    "print('------'* 10)\n",
    "print()\n",
    "\n",
    "print(classification_report(y_test, y_pred))\n",
    "print(confusion_matrix(y_test, y_pred))\n"
   ]
  },
  {
   "cell_type": "code",
   "execution_count": 70,
   "id": "32280a8c",
   "metadata": {
    "colab": {
     "base_uri": "https://localhost:8080/"
    },
    "executionInfo": {
     "elapsed": 11,
     "status": "ok",
     "timestamp": 1653490024327,
     "user": {
      "displayName": "Francisco Ponce",
      "userId": "03873220340391419698"
     },
     "user_tz": 300
    },
    "id": "32280a8c",
    "outputId": "7e4f8832-3664-4aec-b5e1-a871345fe1e3"
   },
   "outputs": [
    {
     "name": "stdout",
     "output_type": "stream",
     "text": [
      "              precision    recall  f1-score   support\n",
      "\n",
      "           0       0.90      0.71      0.79      3399\n",
      "           1       0.76      0.92      0.83      3399\n",
      "\n",
      "    accuracy                           0.82      6798\n",
      "   macro avg       0.83      0.82      0.81      6798\n",
      "weighted avg       0.83      0.82      0.81      6798\n",
      "\n",
      "[[2409  990]\n",
      " [ 263 3136]]\n",
      "\n",
      "------------------------------------------------------------\n",
      "\n",
      "              precision    recall  f1-score   support\n",
      "\n",
      "           0       0.86      0.66      0.75       833\n",
      "           1       0.73      0.89      0.80       833\n",
      "\n",
      "    accuracy                           0.78      1666\n",
      "   macro avg       0.79      0.78      0.77      1666\n",
      "weighted avg       0.79      0.78      0.77      1666\n",
      "\n",
      "[[553 280]\n",
      " [ 90 743]]\n",
      "0.7779111644657863\n"
     ]
    }
   ],
   "source": [
    "#Decision Trees\n",
    "\n",
    "dtree_clf = DecisionTreeClassifier(max_depth=8)\n",
    "dtree_fit = dtree_clf.fit(X_train,y_train)\n",
    "\n",
    "y_pred2 = dtree_fit.predict(X_test) \n",
    "\n",
    "\n",
    "print(classification_report(y_train, dtree_fit.predict(X_train)))\n",
    "print(confusion_matrix(y_train, dtree_fit.predict(X_train)))\n",
    "print()\n",
    "print('------'* 10)\n",
    "print()\n",
    "\n",
    "print(classification_report(y_test, y_pred2))\n",
    "print(confusion_matrix(y_test, y_pred2))\n",
    "\n",
    "print(dtree_fit.score(X_test, y_test))\n"
   ]
  },
  {
   "cell_type": "code",
   "execution_count": 71,
   "id": "c301495d",
   "metadata": {
    "colab": {
     "base_uri": "https://localhost:8080/"
    },
    "executionInfo": {
     "elapsed": 11,
     "status": "ok",
     "timestamp": 1653490024328,
     "user": {
      "displayName": "Francisco Ponce",
      "userId": "03873220340391419698"
     },
     "user_tz": 300
    },
    "id": "c301495d",
    "outputId": "02241c15-7339-475f-ef71-eac32ca30450",
    "scrolled": true
   },
   "outputs": [
    {
     "data": {
      "text/html": [
       "<style>#sk-container-id-1 {color: black;background-color: white;}#sk-container-id-1 pre{padding: 0;}#sk-container-id-1 div.sk-toggleable {background-color: white;}#sk-container-id-1 label.sk-toggleable__label {cursor: pointer;display: block;width: 100%;margin-bottom: 0;padding: 0.3em;box-sizing: border-box;text-align: center;}#sk-container-id-1 label.sk-toggleable__label-arrow:before {content: \"▸\";float: left;margin-right: 0.25em;color: #696969;}#sk-container-id-1 label.sk-toggleable__label-arrow:hover:before {color: black;}#sk-container-id-1 div.sk-estimator:hover label.sk-toggleable__label-arrow:before {color: black;}#sk-container-id-1 div.sk-toggleable__content {max-height: 0;max-width: 0;overflow: hidden;text-align: left;background-color: #f0f8ff;}#sk-container-id-1 div.sk-toggleable__content pre {margin: 0.2em;color: black;border-radius: 0.25em;background-color: #f0f8ff;}#sk-container-id-1 input.sk-toggleable__control:checked~div.sk-toggleable__content {max-height: 200px;max-width: 100%;overflow: auto;}#sk-container-id-1 input.sk-toggleable__control:checked~label.sk-toggleable__label-arrow:before {content: \"▾\";}#sk-container-id-1 div.sk-estimator input.sk-toggleable__control:checked~label.sk-toggleable__label {background-color: #d4ebff;}#sk-container-id-1 div.sk-label input.sk-toggleable__control:checked~label.sk-toggleable__label {background-color: #d4ebff;}#sk-container-id-1 input.sk-hidden--visually {border: 0;clip: rect(1px 1px 1px 1px);clip: rect(1px, 1px, 1px, 1px);height: 1px;margin: -1px;overflow: hidden;padding: 0;position: absolute;width: 1px;}#sk-container-id-1 div.sk-estimator {font-family: monospace;background-color: #f0f8ff;border: 1px dotted black;border-radius: 0.25em;box-sizing: border-box;margin-bottom: 0.5em;}#sk-container-id-1 div.sk-estimator:hover {background-color: #d4ebff;}#sk-container-id-1 div.sk-parallel-item::after {content: \"\";width: 100%;border-bottom: 1px solid gray;flex-grow: 1;}#sk-container-id-1 div.sk-label:hover label.sk-toggleable__label {background-color: #d4ebff;}#sk-container-id-1 div.sk-serial::before {content: \"\";position: absolute;border-left: 1px solid gray;box-sizing: border-box;top: 0;bottom: 0;left: 50%;z-index: 0;}#sk-container-id-1 div.sk-serial {display: flex;flex-direction: column;align-items: center;background-color: white;padding-right: 0.2em;padding-left: 0.2em;position: relative;}#sk-container-id-1 div.sk-item {position: relative;z-index: 1;}#sk-container-id-1 div.sk-parallel {display: flex;align-items: stretch;justify-content: center;background-color: white;position: relative;}#sk-container-id-1 div.sk-item::before, #sk-container-id-1 div.sk-parallel-item::before {content: \"\";position: absolute;border-left: 1px solid gray;box-sizing: border-box;top: 0;bottom: 0;left: 50%;z-index: -1;}#sk-container-id-1 div.sk-parallel-item {display: flex;flex-direction: column;z-index: 1;position: relative;background-color: white;}#sk-container-id-1 div.sk-parallel-item:first-child::after {align-self: flex-end;width: 50%;}#sk-container-id-1 div.sk-parallel-item:last-child::after {align-self: flex-start;width: 50%;}#sk-container-id-1 div.sk-parallel-item:only-child::after {width: 0;}#sk-container-id-1 div.sk-dashed-wrapped {border: 1px dashed gray;margin: 0 0.4em 0.5em 0.4em;box-sizing: border-box;padding-bottom: 0.4em;background-color: white;}#sk-container-id-1 div.sk-label label {font-family: monospace;font-weight: bold;display: inline-block;line-height: 1.2em;}#sk-container-id-1 div.sk-label-container {text-align: center;}#sk-container-id-1 div.sk-container {/* jupyter's `normalize.less` sets `[hidden] { display: none; }` but bootstrap.min.css set `[hidden] { display: none !important; }` so we also need the `!important` here to be able to override the default hidden behavior on the sphinx rendered scikit-learn.org. See: https://github.com/scikit-learn/scikit-learn/issues/21755 */display: inline-block !important;position: relative;}#sk-container-id-1 div.sk-text-repr-fallback {display: none;}</style><div id=\"sk-container-id-1\" class=\"sk-top-container\"><div class=\"sk-text-repr-fallback\"><pre>RandomForestClassifier(max_depth=4, n_jobs=-1)</pre><b>In a Jupyter environment, please rerun this cell to show the HTML representation or trust the notebook. <br />On GitHub, the HTML representation is unable to render, please try loading this page with nbviewer.org.</b></div><div class=\"sk-container\" hidden><div class=\"sk-item\"><div class=\"sk-estimator sk-toggleable\"><input class=\"sk-toggleable__control sk-hidden--visually\" id=\"sk-estimator-id-1\" type=\"checkbox\" checked><label for=\"sk-estimator-id-1\" class=\"sk-toggleable__label sk-toggleable__label-arrow\">RandomForestClassifier</label><div class=\"sk-toggleable__content\"><pre>RandomForestClassifier(max_depth=4, n_jobs=-1)</pre></div></div></div></div></div>"
      ],
      "text/plain": [
       "RandomForestClassifier(max_depth=4, n_jobs=-1)"
      ]
     },
     "execution_count": 71,
     "metadata": {},
     "output_type": "execute_result"
    }
   ],
   "source": [
    "#Random Forest\n",
    "forest = RandomForestClassifier(max_depth=4, n_jobs=-1) # n_estimators = # de árboles\n",
    "forest_fit = forest.fit(X_train, y_train) \n",
    "forest_fit"
   ]
  },
  {
   "cell_type": "code",
   "execution_count": 72,
   "id": "4449d12d",
   "metadata": {
    "executionInfo": {
     "elapsed": 8,
     "status": "ok",
     "timestamp": 1653490024328,
     "user": {
      "displayName": "Francisco Ponce",
      "userId": "03873220340391419698"
     },
     "user_tz": 300
    },
    "id": "4449d12d"
   },
   "outputs": [],
   "source": [
    "y_pred3 = forest_fit.predict(X_test)"
   ]
  },
  {
   "cell_type": "code",
   "execution_count": 73,
   "id": "96008e56",
   "metadata": {
    "colab": {
     "base_uri": "https://localhost:8080/"
    },
    "executionInfo": {
     "elapsed": 8,
     "status": "ok",
     "timestamp": 1653490024328,
     "user": {
      "displayName": "Francisco Ponce",
      "userId": "03873220340391419698"
     },
     "user_tz": 300
    },
    "id": "96008e56",
    "outputId": "605e2d97-af9b-4c43-a5a9-58589791ef4d"
   },
   "outputs": [
    {
     "name": "stdout",
     "output_type": "stream",
     "text": [
      "              precision    recall  f1-score   support\n",
      "\n",
      "           0       0.84      0.65      0.73      3399\n",
      "           1       0.71      0.88      0.79      3399\n",
      "\n",
      "    accuracy                           0.76      6798\n",
      "   macro avg       0.78      0.76      0.76      6798\n",
      "weighted avg       0.78      0.76      0.76      6798\n",
      "\n",
      "[[2197 1202]\n",
      " [ 409 2990]]\n",
      "\n",
      "------------------------------------------------------------\n",
      "\n",
      "              precision    recall  f1-score   support\n",
      "\n",
      "           0       0.84      0.62      0.71       833\n",
      "           1       0.70      0.88      0.78       833\n",
      "\n",
      "    accuracy                           0.75      1666\n",
      "   macro avg       0.77      0.75      0.75      1666\n",
      "weighted avg       0.77      0.75      0.75      1666\n",
      "\n",
      "[[518 315]\n",
      " [102 731]]\n",
      "0.7779111644657863\n",
      "0.6988527724665392\n",
      "0.8775510204081632\n"
     ]
    }
   ],
   "source": [
    "print(classification_report(y_train, forest_fit.predict(X_train)))\n",
    "print(confusion_matrix(y_train, forest_fit.predict(X_train)))\n",
    "print()\n",
    "print('------'* 10)\n",
    "print()\n",
    "\n",
    "print(classification_report(y_test, y_pred3))\n",
    "print(confusion_matrix(y_test, y_pred3))\n",
    "\n",
    "print(dtree_fit.score(X_test, y_test))\n",
    "\n",
    "print(precision_score(y_test,y_pred3 ))\n",
    "print(recall_score(y_test,y_pred3 ))"
   ]
  },
  {
   "cell_type": "code",
   "execution_count": 74,
   "id": "72bf4ad3",
   "metadata": {
    "executionInfo": {
     "elapsed": 208,
     "status": "ok",
     "timestamp": 1653490233822,
     "user": {
      "displayName": "Francisco Ponce",
      "userId": "03873220340391419698"
     },
     "user_tz": 300
    },
    "id": "c58ea8b5"
   },
   "outputs": [],
   "source": [
    "model_params = {\n",
    "    'DecisionTree': {\n",
    "        'model': DecisionTreeClassifier(),\n",
    "        'params' : {\n",
    "            'criterion' : ['gini', 'entropy'],\n",
    "            'min_samples_split': [1, 2, 3],\n",
    "            'min_samples_leaf' : [1, 2, 3]\n",
    "        }  \n",
    "    },\n",
    "    'random_forest': {\n",
    "        'model': RandomForestClassifier(),\n",
    "        'params' : {\n",
    "            'n_estimators': [i for i in range(100,800,200)],\n",
    "            'criterion' : ['gini', 'entropy'],\n",
    "            'max_depth': [50,60,70],\n",
    "            'min_samples_split': [1, 2, 3],\n",
    "            'min_samples_leaf' : [1, 2, 3],\n",
    "            'n_jobs' : [-1]\n",
    "        }\n",
    "    },\n",
    "    'logistic_reggresion' : {\n",
    "        'model': LogisticRegression(),\n",
    "        'params': {\n",
    "            'solver': ['lbfgs', 'saga', 'liblinear'],\n",
    "            'max_iter': [200],\n",
    "            'penalty': ['l1', 'l2']\n",
    "        }\n",
    "    }\n",
    "}"
   ]
  },
  {
   "cell_type": "code",
   "execution_count": 75,
   "id": "7wyTQBBzrACS",
   "metadata": {
    "executionInfo": {
     "elapsed": 205,
     "status": "ok",
     "timestamp": 1653491558284,
     "user": {
      "displayName": "Francisco Ponce",
      "userId": "03873220340391419698"
     },
     "user_tz": 300
    },
    "id": "7wyTQBBzrACS"
   },
   "outputs": [],
   "source": [
    "cv = RepeatedKFold(n_splits=5, n_repeats=10)"
   ]
  },
  {
   "cell_type": "code",
   "execution_count": 76,
   "id": "ff36197e",
   "metadata": {
    "colab": {
     "base_uri": "https://localhost:8080/"
    },
    "id": "ff36197e",
    "outputId": "94069a53-4eb9-41d8-c495-3ea312761e9f",
    "scrolled": true
   },
   "outputs": [
    {
     "name": "stdout",
     "output_type": "stream",
     "text": [
      "Fitting 50 folds for each of 18 candidates, totalling 900 fits\n",
      "Fitting 50 folds for each of 216 candidates, totalling 10800 fits\n",
      "Fitting 50 folds for each of 6 candidates, totalling 300 fits\n",
      "0:30:31.757939\n"
     ]
    },
    {
     "data": {
      "text/html": [
       "<div>\n",
       "<style scoped>\n",
       "    .dataframe tbody tr th:only-of-type {\n",
       "        vertical-align: middle;\n",
       "    }\n",
       "\n",
       "    .dataframe tbody tr th {\n",
       "        vertical-align: top;\n",
       "    }\n",
       "\n",
       "    .dataframe thead th {\n",
       "        text-align: right;\n",
       "    }\n",
       "</style>\n",
       "<table border=\"1\" class=\"dataframe\">\n",
       "  <thead>\n",
       "    <tr style=\"text-align: right;\">\n",
       "      <th></th>\n",
       "      <th>model</th>\n",
       "      <th>best_score</th>\n",
       "      <th>best_params</th>\n",
       "    </tr>\n",
       "  </thead>\n",
       "  <tbody>\n",
       "    <tr>\n",
       "      <th>0</th>\n",
       "      <td>DecisionTree</td>\n",
       "      <td>0.823288</td>\n",
       "      <td>{'criterion': 'gini', 'min_samples_leaf': 3, '...</td>\n",
       "    </tr>\n",
       "    <tr>\n",
       "      <th>1</th>\n",
       "      <td>random_forest</td>\n",
       "      <td>0.884594</td>\n",
       "      <td>{'criterion': 'entropy', 'max_depth': 50, 'min...</td>\n",
       "    </tr>\n",
       "    <tr>\n",
       "      <th>2</th>\n",
       "      <td>logistic_reggresion</td>\n",
       "      <td>0.803640</td>\n",
       "      <td>{'max_iter': 200, 'penalty': 'l1', 'solver': '...</td>\n",
       "    </tr>\n",
       "  </tbody>\n",
       "</table>\n",
       "</div>"
      ],
      "text/plain": [
       "                 model  best_score  \\\n",
       "0         DecisionTree    0.823288   \n",
       "1        random_forest    0.884594   \n",
       "2  logistic_reggresion    0.803640   \n",
       "\n",
       "                                         best_params  \n",
       "0  {'criterion': 'gini', 'min_samples_leaf': 3, '...  \n",
       "1  {'criterion': 'entropy', 'max_depth': 50, 'min...  \n",
       "2  {'max_iter': 200, 'penalty': 'l1', 'solver': '...  "
      ]
     },
     "execution_count": 76,
     "metadata": {},
     "output_type": "execute_result"
    }
   ],
   "source": [
    "scores = []\n",
    "start = datetime.now()\n",
    "for model_name, model_attributes in model_params.items():\n",
    "    grid_clf =  GridSearchCV(model_attributes['model'], model_attributes['params'], cv=cv, return_train_score=False, n_jobs=-1, verbose=1, scoring='roc_auc')\n",
    "    grid_clf.fit(X_train, y_train)\n",
    "    scores.append({\n",
    "        'model': model_name,\n",
    "        'best_score': grid_clf.best_score_,\n",
    "        'best_params': grid_clf.best_params_\n",
    "    })\n",
    "end = datetime.now()\n",
    "print(end-start)\n",
    "results = pd.DataFrame(scores,columns=['model','best_score','best_params'])\n",
    "results\n",
    "\n",
    "\n"
   ]
  },
  {
   "cell_type": "code",
   "execution_count": 77,
   "id": "c2f82c08",
   "metadata": {
    "executionInfo": {
     "elapsed": 27,
     "status": "aborted",
     "timestamp": 1653491534638,
     "user": {
      "displayName": "Francisco Ponce",
      "userId": "03873220340391419698"
     },
     "user_tz": 300
    },
    "id": "c2f82c08"
   },
   "outputs": [
    {
     "data": {
      "text/plain": [
       "{'criterion': 'entropy',\n",
       " 'max_depth': 50,\n",
       " 'min_samples_leaf': 2,\n",
       " 'min_samples_split': 2,\n",
       " 'n_estimators': 700,\n",
       " 'n_jobs': -1}"
      ]
     },
     "execution_count": 77,
     "metadata": {},
     "output_type": "execute_result"
    }
   ],
   "source": [
    "hyper_random_forest = results.loc[1,]['best_params']\n",
    "hyper_random_forest"
   ]
  },
  {
   "cell_type": "code",
   "execution_count": 93,
   "id": "0e1ff3ed",
   "metadata": {
    "executionInfo": {
     "elapsed": 29,
     "status": "aborted",
     "timestamp": 1653491534640,
     "user": {
      "displayName": "Francisco Ponce",
      "userId": "03873220340391419698"
     },
     "user_tz": 300
    },
    "id": "0e1ff3ed"
   },
   "outputs": [],
   "source": [
    "random_forest2 = RandomForestClassifier(**hyper_random_forest)"
   ]
  },
  {
   "cell_type": "code",
   "execution_count": 94,
   "id": "4ad7c50b",
   "metadata": {},
   "outputs": [
    {
     "data": {
      "text/html": [
       "<style>#sk-container-id-5 {color: black;background-color: white;}#sk-container-id-5 pre{padding: 0;}#sk-container-id-5 div.sk-toggleable {background-color: white;}#sk-container-id-5 label.sk-toggleable__label {cursor: pointer;display: block;width: 100%;margin-bottom: 0;padding: 0.3em;box-sizing: border-box;text-align: center;}#sk-container-id-5 label.sk-toggleable__label-arrow:before {content: \"▸\";float: left;margin-right: 0.25em;color: #696969;}#sk-container-id-5 label.sk-toggleable__label-arrow:hover:before {color: black;}#sk-container-id-5 div.sk-estimator:hover label.sk-toggleable__label-arrow:before {color: black;}#sk-container-id-5 div.sk-toggleable__content {max-height: 0;max-width: 0;overflow: hidden;text-align: left;background-color: #f0f8ff;}#sk-container-id-5 div.sk-toggleable__content pre {margin: 0.2em;color: black;border-radius: 0.25em;background-color: #f0f8ff;}#sk-container-id-5 input.sk-toggleable__control:checked~div.sk-toggleable__content {max-height: 200px;max-width: 100%;overflow: auto;}#sk-container-id-5 input.sk-toggleable__control:checked~label.sk-toggleable__label-arrow:before {content: \"▾\";}#sk-container-id-5 div.sk-estimator input.sk-toggleable__control:checked~label.sk-toggleable__label {background-color: #d4ebff;}#sk-container-id-5 div.sk-label input.sk-toggleable__control:checked~label.sk-toggleable__label {background-color: #d4ebff;}#sk-container-id-5 input.sk-hidden--visually {border: 0;clip: rect(1px 1px 1px 1px);clip: rect(1px, 1px, 1px, 1px);height: 1px;margin: -1px;overflow: hidden;padding: 0;position: absolute;width: 1px;}#sk-container-id-5 div.sk-estimator {font-family: monospace;background-color: #f0f8ff;border: 1px dotted black;border-radius: 0.25em;box-sizing: border-box;margin-bottom: 0.5em;}#sk-container-id-5 div.sk-estimator:hover {background-color: #d4ebff;}#sk-container-id-5 div.sk-parallel-item::after {content: \"\";width: 100%;border-bottom: 1px solid gray;flex-grow: 1;}#sk-container-id-5 div.sk-label:hover label.sk-toggleable__label {background-color: #d4ebff;}#sk-container-id-5 div.sk-serial::before {content: \"\";position: absolute;border-left: 1px solid gray;box-sizing: border-box;top: 0;bottom: 0;left: 50%;z-index: 0;}#sk-container-id-5 div.sk-serial {display: flex;flex-direction: column;align-items: center;background-color: white;padding-right: 0.2em;padding-left: 0.2em;position: relative;}#sk-container-id-5 div.sk-item {position: relative;z-index: 1;}#sk-container-id-5 div.sk-parallel {display: flex;align-items: stretch;justify-content: center;background-color: white;position: relative;}#sk-container-id-5 div.sk-item::before, #sk-container-id-5 div.sk-parallel-item::before {content: \"\";position: absolute;border-left: 1px solid gray;box-sizing: border-box;top: 0;bottom: 0;left: 50%;z-index: -1;}#sk-container-id-5 div.sk-parallel-item {display: flex;flex-direction: column;z-index: 1;position: relative;background-color: white;}#sk-container-id-5 div.sk-parallel-item:first-child::after {align-self: flex-end;width: 50%;}#sk-container-id-5 div.sk-parallel-item:last-child::after {align-self: flex-start;width: 50%;}#sk-container-id-5 div.sk-parallel-item:only-child::after {width: 0;}#sk-container-id-5 div.sk-dashed-wrapped {border: 1px dashed gray;margin: 0 0.4em 0.5em 0.4em;box-sizing: border-box;padding-bottom: 0.4em;background-color: white;}#sk-container-id-5 div.sk-label label {font-family: monospace;font-weight: bold;display: inline-block;line-height: 1.2em;}#sk-container-id-5 div.sk-label-container {text-align: center;}#sk-container-id-5 div.sk-container {/* jupyter's `normalize.less` sets `[hidden] { display: none; }` but bootstrap.min.css set `[hidden] { display: none !important; }` so we also need the `!important` here to be able to override the default hidden behavior on the sphinx rendered scikit-learn.org. See: https://github.com/scikit-learn/scikit-learn/issues/21755 */display: inline-block !important;position: relative;}#sk-container-id-5 div.sk-text-repr-fallback {display: none;}</style><div id=\"sk-container-id-5\" class=\"sk-top-container\"><div class=\"sk-text-repr-fallback\"><pre>RandomForestClassifier(criterion=&#x27;entropy&#x27;, max_depth=50, min_samples_leaf=2,\n",
       "                       n_estimators=700, n_jobs=-1)</pre><b>In a Jupyter environment, please rerun this cell to show the HTML representation or trust the notebook. <br />On GitHub, the HTML representation is unable to render, please try loading this page with nbviewer.org.</b></div><div class=\"sk-container\" hidden><div class=\"sk-item\"><div class=\"sk-estimator sk-toggleable\"><input class=\"sk-toggleable__control sk-hidden--visually\" id=\"sk-estimator-id-5\" type=\"checkbox\" checked><label for=\"sk-estimator-id-5\" class=\"sk-toggleable__label sk-toggleable__label-arrow\">RandomForestClassifier</label><div class=\"sk-toggleable__content\"><pre>RandomForestClassifier(criterion=&#x27;entropy&#x27;, max_depth=50, min_samples_leaf=2,\n",
       "                       n_estimators=700, n_jobs=-1)</pre></div></div></div></div></div>"
      ],
      "text/plain": [
       "RandomForestClassifier(criterion='entropy', max_depth=50, min_samples_leaf=2,\n",
       "                       n_estimators=700, n_jobs=-1)"
      ]
     },
     "execution_count": 94,
     "metadata": {},
     "output_type": "execute_result"
    }
   ],
   "source": [
    "forest_fit2 = random_forest2.fit(X_train, y_train) \n",
    "forest_fit2"
   ]
  },
  {
   "cell_type": "code",
   "execution_count": 98,
   "id": "bb4baac5",
   "metadata": {},
   "outputs": [],
   "source": [
    "y_pred4 = forest_fit2.predict(X_test)"
   ]
  },
  {
   "cell_type": "code",
   "execution_count": 99,
   "id": "89d767a7",
   "metadata": {},
   "outputs": [
    {
     "name": "stdout",
     "output_type": "stream",
     "text": [
      "              precision    recall  f1-score   support\n",
      "\n",
      "           0       0.95      0.76      0.85       867\n",
      "           1       0.80      0.96      0.87       867\n",
      "\n",
      "    accuracy                           0.86      1734\n",
      "   macro avg       0.88      0.86      0.86      1734\n",
      "weighted avg       0.88      0.86      0.86      1734\n",
      "\n",
      "[[657 210]\n",
      " [ 31 836]]\n",
      "0.8160322952710496\n",
      "0.7992351816443595\n",
      "0.9642445213379469\n"
     ]
    }
   ],
   "source": [
    "print(classification_report(y_test, y_pred4))\n",
    "print(confusion_matrix(y_test, y_pred4))\n",
    "print(dtree_fit.score(X_test, y_test))\n",
    "print(precision_score(y_test,y_pred4 ))\n",
    "print(recall_score(y_test,y_pred4 ))"
   ]
  },
  {
   "cell_type": "code",
   "execution_count": null,
   "id": "a9b91ad5",
   "metadata": {},
   "outputs": [],
   "source": []
  }
 ],
 "metadata": {
  "colab": {
   "collapsed_sections": [],
   "name": "main copy.ipynb",
   "provenance": []
  },
  "kernelspec": {
   "display_name": "Python 3 (ipykernel)",
   "language": "python",
   "name": "python3"
  },
  "language_info": {
   "codemirror_mode": {
    "name": "ipython",
    "version": 3
   },
   "file_extension": ".py",
   "mimetype": "text/x-python",
   "name": "python",
   "nbconvert_exporter": "python",
   "pygments_lexer": "ipython3",
   "version": "3.8.9"
  },
  "vscode": {
   "interpreter": {
    "hash": "31f2aee4e71d21fbe5cf8b01ff0e069b9275f58929596ceb00d14d90e3e16cd6"
   }
  }
 },
 "nbformat": 4,
 "nbformat_minor": 5
}
